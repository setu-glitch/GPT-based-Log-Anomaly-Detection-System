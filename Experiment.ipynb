{
  "nbformat": 4,
  "nbformat_minor": 0,
  "metadata": {
    "colab": {
      "provenance": [],
      "collapsed_sections": [
        "dfZOYR_ziTiY",
        "jgHB6rlZiEGQ",
        "KjQ_qGZVkIaA",
        "PdqFCilrntdk",
        "DKC_A-VqPkH6",
        "PC0zq52aQgVf",
        "vKmwRjTPSRW5",
        "oR_LuhAjSV2b",
        "RPWdrnoFSotk",
        "C3qmwjsNStLg",
        "o_H_Uinvg06L",
        "5P8MTxnRhnZ0",
        "2HdLc7KdjBGP",
        "E4zEaWN4jBGX",
        "McryQlkZjBGY",
        "Lsllx46wjBGa",
        "S_JVMNY9jBGb",
        "g9fqF37-kGHI",
        "aNossJ1tkGHR",
        "3out0zPPkGHR",
        "do88sqf-kGHT",
        "cOaYna2BkGHU",
        "YvBQYrlFkwT1",
        "obnDnuN8kwT2",
        "5N2XNLkqkwT3",
        "4xLcqXkXkwT5"
      ]
    },
    "kernelspec": {
      "name": "python3",
      "display_name": "Python 3"
    },
    "language_info": {
      "name": "python"
    },
    "widgets": {
      "application/vnd.jupyter.widget-state+json": {
        "6a0a94d2d24d43099b381b2fb4a747d6": {
          "model_module": "@jupyter-widgets/controls",
          "model_name": "HBoxModel",
          "model_module_version": "1.5.0",
          "state": {
            "_dom_classes": [],
            "_model_module": "@jupyter-widgets/controls",
            "_model_module_version": "1.5.0",
            "_model_name": "HBoxModel",
            "_view_count": null,
            "_view_module": "@jupyter-widgets/controls",
            "_view_module_version": "1.5.0",
            "_view_name": "HBoxView",
            "box_style": "",
            "children": [
              "IPY_MODEL_61eb84922ef74506ae6d90238d2f0b74",
              "IPY_MODEL_d12334c844874ee09f6faac988bf4371",
              "IPY_MODEL_384733505f8044f68f523321f6f4d238"
            ],
            "layout": "IPY_MODEL_5e945c003bfa4c348771c62325c10395"
          }
        },
        "61eb84922ef74506ae6d90238d2f0b74": {
          "model_module": "@jupyter-widgets/controls",
          "model_name": "HTMLModel",
          "model_module_version": "1.5.0",
          "state": {
            "_dom_classes": [],
            "_model_module": "@jupyter-widgets/controls",
            "_model_module_version": "1.5.0",
            "_model_name": "HTMLModel",
            "_view_count": null,
            "_view_module": "@jupyter-widgets/controls",
            "_view_module_version": "1.5.0",
            "_view_name": "HTMLView",
            "description": "",
            "description_tooltip": null,
            "layout": "IPY_MODEL_f1d10c3638de40b99b7592bf26c92758",
            "placeholder": "​",
            "style": "IPY_MODEL_f69d88e885244516bfc3c285daa4acfd",
            "value": "100%"
          }
        },
        "d12334c844874ee09f6faac988bf4371": {
          "model_module": "@jupyter-widgets/controls",
          "model_name": "FloatProgressModel",
          "model_module_version": "1.5.0",
          "state": {
            "_dom_classes": [],
            "_model_module": "@jupyter-widgets/controls",
            "_model_module_version": "1.5.0",
            "_model_name": "FloatProgressModel",
            "_view_count": null,
            "_view_module": "@jupyter-widgets/controls",
            "_view_module_version": "1.5.0",
            "_view_name": "ProgressView",
            "bar_style": "success",
            "description": "",
            "description_tooltip": null,
            "layout": "IPY_MODEL_c3e1995c14a34a0da2ee94fea3c0b2e0",
            "max": 1999,
            "min": 0,
            "orientation": "horizontal",
            "style": "IPY_MODEL_583e5091b8784303a7114a1d44d39a6d",
            "value": 1999
          }
        },
        "384733505f8044f68f523321f6f4d238": {
          "model_module": "@jupyter-widgets/controls",
          "model_name": "HTMLModel",
          "model_module_version": "1.5.0",
          "state": {
            "_dom_classes": [],
            "_model_module": "@jupyter-widgets/controls",
            "_model_module_version": "1.5.0",
            "_model_name": "HTMLModel",
            "_view_count": null,
            "_view_module": "@jupyter-widgets/controls",
            "_view_module_version": "1.5.0",
            "_view_name": "HTMLView",
            "description": "",
            "description_tooltip": null,
            "layout": "IPY_MODEL_de4d18641ede4ce5baa00d0ae9518beb",
            "placeholder": "​",
            "style": "IPY_MODEL_02319fca1b2440909022eef153ccd808",
            "value": " 1999/1999 [00:00&lt;00:00, 29118.31it/s]"
          }
        },
        "5e945c003bfa4c348771c62325c10395": {
          "model_module": "@jupyter-widgets/base",
          "model_name": "LayoutModel",
          "model_module_version": "1.2.0",
          "state": {
            "_model_module": "@jupyter-widgets/base",
            "_model_module_version": "1.2.0",
            "_model_name": "LayoutModel",
            "_view_count": null,
            "_view_module": "@jupyter-widgets/base",
            "_view_module_version": "1.2.0",
            "_view_name": "LayoutView",
            "align_content": null,
            "align_items": null,
            "align_self": null,
            "border": null,
            "bottom": null,
            "display": null,
            "flex": null,
            "flex_flow": null,
            "grid_area": null,
            "grid_auto_columns": null,
            "grid_auto_flow": null,
            "grid_auto_rows": null,
            "grid_column": null,
            "grid_gap": null,
            "grid_row": null,
            "grid_template_areas": null,
            "grid_template_columns": null,
            "grid_template_rows": null,
            "height": null,
            "justify_content": null,
            "justify_items": null,
            "left": null,
            "margin": null,
            "max_height": null,
            "max_width": null,
            "min_height": null,
            "min_width": null,
            "object_fit": null,
            "object_position": null,
            "order": null,
            "overflow": null,
            "overflow_x": null,
            "overflow_y": null,
            "padding": null,
            "right": null,
            "top": null,
            "visibility": null,
            "width": null
          }
        },
        "f1d10c3638de40b99b7592bf26c92758": {
          "model_module": "@jupyter-widgets/base",
          "model_name": "LayoutModel",
          "model_module_version": "1.2.0",
          "state": {
            "_model_module": "@jupyter-widgets/base",
            "_model_module_version": "1.2.0",
            "_model_name": "LayoutModel",
            "_view_count": null,
            "_view_module": "@jupyter-widgets/base",
            "_view_module_version": "1.2.0",
            "_view_name": "LayoutView",
            "align_content": null,
            "align_items": null,
            "align_self": null,
            "border": null,
            "bottom": null,
            "display": null,
            "flex": null,
            "flex_flow": null,
            "grid_area": null,
            "grid_auto_columns": null,
            "grid_auto_flow": null,
            "grid_auto_rows": null,
            "grid_column": null,
            "grid_gap": null,
            "grid_row": null,
            "grid_template_areas": null,
            "grid_template_columns": null,
            "grid_template_rows": null,
            "height": null,
            "justify_content": null,
            "justify_items": null,
            "left": null,
            "margin": null,
            "max_height": null,
            "max_width": null,
            "min_height": null,
            "min_width": null,
            "object_fit": null,
            "object_position": null,
            "order": null,
            "overflow": null,
            "overflow_x": null,
            "overflow_y": null,
            "padding": null,
            "right": null,
            "top": null,
            "visibility": null,
            "width": null
          }
        },
        "f69d88e885244516bfc3c285daa4acfd": {
          "model_module": "@jupyter-widgets/controls",
          "model_name": "DescriptionStyleModel",
          "model_module_version": "1.5.0",
          "state": {
            "_model_module": "@jupyter-widgets/controls",
            "_model_module_version": "1.5.0",
            "_model_name": "DescriptionStyleModel",
            "_view_count": null,
            "_view_module": "@jupyter-widgets/base",
            "_view_module_version": "1.2.0",
            "_view_name": "StyleView",
            "description_width": ""
          }
        },
        "c3e1995c14a34a0da2ee94fea3c0b2e0": {
          "model_module": "@jupyter-widgets/base",
          "model_name": "LayoutModel",
          "model_module_version": "1.2.0",
          "state": {
            "_model_module": "@jupyter-widgets/base",
            "_model_module_version": "1.2.0",
            "_model_name": "LayoutModel",
            "_view_count": null,
            "_view_module": "@jupyter-widgets/base",
            "_view_module_version": "1.2.0",
            "_view_name": "LayoutView",
            "align_content": null,
            "align_items": null,
            "align_self": null,
            "border": null,
            "bottom": null,
            "display": null,
            "flex": null,
            "flex_flow": null,
            "grid_area": null,
            "grid_auto_columns": null,
            "grid_auto_flow": null,
            "grid_auto_rows": null,
            "grid_column": null,
            "grid_gap": null,
            "grid_row": null,
            "grid_template_areas": null,
            "grid_template_columns": null,
            "grid_template_rows": null,
            "height": null,
            "justify_content": null,
            "justify_items": null,
            "left": null,
            "margin": null,
            "max_height": null,
            "max_width": null,
            "min_height": null,
            "min_width": null,
            "object_fit": null,
            "object_position": null,
            "order": null,
            "overflow": null,
            "overflow_x": null,
            "overflow_y": null,
            "padding": null,
            "right": null,
            "top": null,
            "visibility": null,
            "width": null
          }
        },
        "583e5091b8784303a7114a1d44d39a6d": {
          "model_module": "@jupyter-widgets/controls",
          "model_name": "ProgressStyleModel",
          "model_module_version": "1.5.0",
          "state": {
            "_model_module": "@jupyter-widgets/controls",
            "_model_module_version": "1.5.0",
            "_model_name": "ProgressStyleModel",
            "_view_count": null,
            "_view_module": "@jupyter-widgets/base",
            "_view_module_version": "1.2.0",
            "_view_name": "StyleView",
            "bar_color": null,
            "description_width": ""
          }
        },
        "de4d18641ede4ce5baa00d0ae9518beb": {
          "model_module": "@jupyter-widgets/base",
          "model_name": "LayoutModel",
          "model_module_version": "1.2.0",
          "state": {
            "_model_module": "@jupyter-widgets/base",
            "_model_module_version": "1.2.0",
            "_model_name": "LayoutModel",
            "_view_count": null,
            "_view_module": "@jupyter-widgets/base",
            "_view_module_version": "1.2.0",
            "_view_name": "LayoutView",
            "align_content": null,
            "align_items": null,
            "align_self": null,
            "border": null,
            "bottom": null,
            "display": null,
            "flex": null,
            "flex_flow": null,
            "grid_area": null,
            "grid_auto_columns": null,
            "grid_auto_flow": null,
            "grid_auto_rows": null,
            "grid_column": null,
            "grid_gap": null,
            "grid_row": null,
            "grid_template_areas": null,
            "grid_template_columns": null,
            "grid_template_rows": null,
            "height": null,
            "justify_content": null,
            "justify_items": null,
            "left": null,
            "margin": null,
            "max_height": null,
            "max_width": null,
            "min_height": null,
            "min_width": null,
            "object_fit": null,
            "object_position": null,
            "order": null,
            "overflow": null,
            "overflow_x": null,
            "overflow_y": null,
            "padding": null,
            "right": null,
            "top": null,
            "visibility": null,
            "width": null
          }
        },
        "02319fca1b2440909022eef153ccd808": {
          "model_module": "@jupyter-widgets/controls",
          "model_name": "DescriptionStyleModel",
          "model_module_version": "1.5.0",
          "state": {
            "_model_module": "@jupyter-widgets/controls",
            "_model_module_version": "1.5.0",
            "_model_name": "DescriptionStyleModel",
            "_view_count": null,
            "_view_module": "@jupyter-widgets/base",
            "_view_module_version": "1.2.0",
            "_view_name": "StyleView",
            "description_width": ""
          }
        }
      }
    }
  },
  "cells": [
    {
      "cell_type": "markdown",
      "source": [
        "# **Importing Python Modules**"
      ],
      "metadata": {
        "id": "dfZOYR_ziTiY"
      }
    },
    {
      "cell_type": "code",
      "source": [
        "!pip install openai\n",
        "!pip install gpt_index\n",
        "!pip install catboost"
      ],
      "metadata": {
        "id": "2K_q-frRkU7J"
      },
      "execution_count": null,
      "outputs": []
    },
    {
      "cell_type": "code",
      "source": [
        "import pandas as pd # Dataframe support in Python\n",
        "import numpy as np # Array support in python\n",
        "import sklearn  # Machine learning\n",
        "import gdown # Downloading dataset from google drive\n",
        "import matplotlib.pyplot as plt # For visualization figures\n",
        "from matplotlib.pyplot import figure # For visualization figures\n",
        "from gpt_index import SimpleDirectoryReader, GPTListIndex, GPTSimpleVectorIndex, LLMPredictor, PromptHelper\n",
        "from langchain import OpenAI\n",
        "import openai\n",
        "import sys\n",
        "import os\n",
        "from tqdm.notebook import tqdm\n",
        "from sklearn.cluster import KMeans\n",
        "import nltk\n",
        "from sklearn.model_selection import train_test_split\n",
        "from sklearn.datasets import make_classification\n",
        "from sklearn.ensemble import RandomForestClassifier\n",
        "from lightgbm import LGBMClassifier\n",
        "from catboost import CatBoostClassifier\n",
        "#from sklearn.model_selection import cross_validate\n",
        "from sklearn.metrics import classification_report\n",
        "from sklearn.metrics import roc_curve\n",
        "from sklearn.metrics import roc_auc_score\n",
        "from sklearn.metrics import confusion_matrix\n",
        "from sklearn.metrics import accuracy_score\n",
        "from sklearn.metrics import ConfusionMatrixDisplay\n",
        "from datetime import datetime"
      ],
      "metadata": {
        "id": "lZvCQ6s9iWi8"
      },
      "execution_count": null,
      "outputs": []
    },
    {
      "cell_type": "markdown",
      "source": [
        "# **Downloading Dataset**"
      ],
      "metadata": {
        "id": "jgHB6rlZiEGQ"
      }
    },
    {
      "cell_type": "markdown",
      "source": [
        "*Downloading dataset from Google Drive*\n",
        "\n",
        "---\n",
        "\n"
      ],
      "metadata": {
        "id": "nXGHvqLGikwZ"
      }
    },
    {
      "cell_type": "code",
      "execution_count": null,
      "metadata": {
        "colab": {
          "base_uri": "https://localhost:8080/",
          "height": 105
        },
        "id": "re7XmrGrhD1d",
        "outputId": "9bcad22f-0f9f-4f5a-d6a3-283d3d25225a"
      },
      "outputs": [
        {
          "output_type": "stream",
          "name": "stderr",
          "text": [
            "Downloading...\n",
            "From: https://drive.google.com/uc?id=1rEXGrjlZ5BjRLNCXIQ6YDieQkOEEL0Ls\n",
            "To: /content/Dataset.zip\n",
            "100%|██████████| 485k/485k [00:00<00:00, 84.1MB/s]\n"
          ]
        },
        {
          "output_type": "execute_result",
          "data": {
            "text/plain": [
              "'Dataset.zip'"
            ],
            "application/vnd.google.colaboratory.intrinsic+json": {
              "type": "string"
            }
          },
          "metadata": {},
          "execution_count": 3
        }
      ],
      "source": [
        "# Drive Link: https://drive.google.com/file/d/1rEXGrjlZ5BjRLNCXIQ6YDieQkOEEL0Ls/view?usp=sharing\n",
        "url = 'https://drive.google.com/uc?id=1rEXGrjlZ5BjRLNCXIQ6YDieQkOEEL0Ls'\n",
        "output = 'Dataset.zip'\n",
        "gdown.download(url, output, quiet=False)"
      ]
    },
    {
      "cell_type": "markdown",
      "source": [
        "*Unzipping dataset*\n",
        "\n",
        "---\n",
        "\n"
      ],
      "metadata": {
        "id": "5mCH6guPis7V"
      }
    },
    {
      "cell_type": "code",
      "source": [
        "!unzip Dataset.zip"
      ],
      "metadata": {
        "id": "gnBstrD6iyD_",
        "colab": {
          "base_uri": "https://localhost:8080/"
        },
        "outputId": "248db18d-d9db-4b81-b42e-b0fb65e277df"
      },
      "execution_count": null,
      "outputs": [
        {
          "output_type": "stream",
          "name": "stdout",
          "text": [
            "Archive:  Dataset.zip\n",
            "   creating: Apache/\n",
            "  inflating: __MACOSX/._Apache       \n",
            "  inflating: Apache/Apache_2k.log_templates.csv  \n",
            "  inflating: __MACOSX/Apache/._Apache_2k.log_templates.csv  \n",
            "  inflating: Apache/Apache_2k.log    \n",
            "  inflating: __MACOSX/Apache/._Apache_2k.log  \n",
            "  inflating: Apache/Apache_2k.log_structured.csv  \n",
            "  inflating: __MACOSX/Apache/._Apache_2k.log_structured.csv  \n",
            "   creating: BGL/\n",
            "  inflating: __MACOSX/._BGL          \n",
            "  inflating: BGL/BGL_templates.csv   \n",
            "  inflating: __MACOSX/BGL/._BGL_templates.csv  \n",
            "  inflating: BGL/BGL_2k.log          \n",
            "  inflating: __MACOSX/BGL/._BGL_2k.log  \n",
            "  inflating: BGL/BGL_2k.log_templates.csv  \n",
            "  inflating: __MACOSX/BGL/._BGL_2k.log_templates.csv  \n",
            "  inflating: BGL/BGL_2k.log_structured.csv  \n",
            "  inflating: __MACOSX/BGL/._BGL_2k.log_structured.csv  \n",
            "   creating: Hadoop/\n",
            "  inflating: __MACOSX/._Hadoop       \n",
            "  inflating: Hadoop/Hadoop_2k.log_structured.csv  \n",
            "  inflating: __MACOSX/Hadoop/._Hadoop_2k.log_structured.csv  \n",
            "  inflating: Hadoop/Hadoop_2k.log    \n",
            "  inflating: __MACOSX/Hadoop/._Hadoop_2k.log  \n",
            "  inflating: Hadoop/Hadoop_2k.log_templates.csv  \n",
            "  inflating: __MACOSX/Hadoop/._Hadoop_2k.log_templates.csv  \n",
            "   creating: HDFS/\n",
            "  inflating: __MACOSX/._HDFS         \n",
            "  inflating: HDFS/HDFS_templates.csv  \n",
            "  inflating: __MACOSX/HDFS/._HDFS_templates.csv  \n",
            "  inflating: HDFS/HDFS_2k.log        \n",
            "  inflating: __MACOSX/HDFS/._HDFS_2k.log  \n",
            "  inflating: HDFS/HDFS_2k.log_templates.csv  \n",
            "  inflating: __MACOSX/HDFS/._HDFS_2k.log_templates.csv  \n",
            "  inflating: HDFS/HDFS_2k.log_structured.csv  \n",
            "  inflating: __MACOSX/HDFS/._HDFS_2k.log_structured.csv  \n",
            "   creating: Thunderbird/\n",
            "  inflating: __MACOSX/._Thunderbird  \n",
            "  inflating: Thunderbird/Thunderbird_2k.log_structured.csv  \n",
            "  inflating: __MACOSX/Thunderbird/._Thunderbird_2k.log_structured.csv  \n",
            "  inflating: Thunderbird/Thunderbird_2k.log  \n",
            "  inflating: __MACOSX/Thunderbird/._Thunderbird_2k.log  \n",
            "  inflating: Thunderbird/Thunderbird_2k.log_templates.csv  \n",
            "  inflating: __MACOSX/Thunderbird/._Thunderbird_2k.log_templates.csv  \n",
            "   creating: Zookeeper/\n",
            "  inflating: __MACOSX/._Zookeeper    \n",
            "  inflating: Zookeeper/Zookeeper_2k.log_structured.csv  \n",
            "  inflating: __MACOSX/Zookeeper/._Zookeeper_2k.log_structured.csv  \n",
            "  inflating: Zookeeper/Zookeeper_2k.log  \n",
            "  inflating: __MACOSX/Zookeeper/._Zookeeper_2k.log  \n",
            "  inflating: Zookeeper/Zookeeper_2k.log_templates.csv  \n",
            "  inflating: __MACOSX/Zookeeper/._Zookeeper_2k.log_templates.csv  \n"
          ]
        }
      ]
    },
    {
      "cell_type": "code",
      "source": [
        "# Importing the dataset into dataframe\n",
        "apache = pd.read_csv(\"/content/Apache/Apache_2k.log_structured.csv\", index_col=0)\n",
        "bgl = pd.read_csv(\"/content/BGL/BGL_2k.log_structured.csv\", index_col=0)\n",
        "hdfs = pd.read_csv(\"/content/HDFS/HDFS_2k.log_structured.csv\", index_col=0)\n",
        "thunderbird = pd.read_csv(\"/content/Thunderbird/Thunderbird_2k.log_structured.csv\", index_col=0)"
      ],
      "metadata": {
        "id": "E_nWumnoizmp"
      },
      "execution_count": null,
      "outputs": []
    },
    {
      "cell_type": "markdown",
      "source": [
        "# **GPT**"
      ],
      "metadata": {
        "id": "KjQ_qGZVkIaA"
      }
    },
    {
      "cell_type": "code",
      "source": [
        "pd.set_option('display.max_colwidth', 10000)\n",
        "MAX_COMMENT_LEN = 1024\n",
        "openai.api_key = 'Your API Key' #Insert your API key here\n",
        "MAX_COMMENTS_TO_PROCESS = 2000000\n",
        "ENGINE = 'text-similarity-ada-001'\n",
        "DEBUG = False\n",
        "\n",
        "ENGINE_PRICE_PER_TOKEN = {\n",
        "    'text-similarity-davinci-001': 0.6 / 1000,\n",
        "    'text-similarity_curie-001': 0.06 / 1000,\n",
        "    'text-similarity-babbage-001': 0.012 / 1000,\n",
        "    'text-similarity-ada-001': 0.008 / 1000\n",
        "}"
      ],
      "metadata": {
        "id": "CPfZcfTBlPsH"
      },
      "execution_count": null,
      "outputs": []
    },
    {
      "cell_type": "code",
      "source": [
        "def gen_embeddings(comments, engine):\n",
        "    if DEBUG:\n",
        "        return np.random.randn(len(comments), 1024)\n",
        "    else:\n",
        "        return np.array([d['word_embedding'] for d in openai.Embedding.create(input=comments.tolist(), engine=engine)['data']]), np.array([d['sentence_embedding'] for d in openai.Embedding.create(input=comments.tolist(), engine=engine)['data']])"
      ],
      "metadata": {
        "id": "HCdM_hKhlhTC"
      },
      "execution_count": null,
      "outputs": []
    },
    {
      "cell_type": "markdown",
      "source": [
        "# **Generating Word & Sentence Embedding from GPT**"
      ],
      "metadata": {
        "id": "PdqFCilrntdk"
      }
    },
    {
      "cell_type": "code",
      "source": [
        "word_embs = []\n",
        "sentence_emb = []\n",
        "\n",
        "for apache in tqdm(np.array_split(apache, len(apache) // 100)):\n",
        "    word_embs.append(gen_embeddings(apache['Content'], ENGINE))\n",
        "    sentence_emb.append(gen_embeddings(apache['Content'], ENGINE))\n",
        "word_embs = np.concatenate(word_embs)\n",
        "sentence_emb = np.concatenate(sentence_emb)"
      ],
      "metadata": {
        "colab": {
          "base_uri": "https://localhost:8080/",
          "height": 49,
          "referenced_widgets": [
            "6a0a94d2d24d43099b381b2fb4a747d6",
            "61eb84922ef74506ae6d90238d2f0b74",
            "d12334c844874ee09f6faac988bf4371",
            "384733505f8044f68f523321f6f4d238",
            "5e945c003bfa4c348771c62325c10395",
            "f1d10c3638de40b99b7592bf26c92758",
            "f69d88e885244516bfc3c285daa4acfd",
            "c3e1995c14a34a0da2ee94fea3c0b2e0",
            "583e5091b8784303a7114a1d44d39a6d",
            "de4d18641ede4ce5baa00d0ae9518beb",
            "02319fca1b2440909022eef153ccd808"
          ]
        },
        "id": "dCGNiWB-mDG6",
        "outputId": "0c675e43-c3c1-41ef-a834-08e4c61592bb"
      },
      "execution_count": null,
      "outputs": [
        {
          "output_type": "display_data",
          "data": {
            "text/plain": [
              "  0%|          | 0/1999 [00:00<?, ?it/s]"
            ],
            "application/vnd.jupyter.widget-view+json": {
              "version_major": 2,
              "version_minor": 0,
              "model_id": "6a0a94d2d24d43099b381b2fb4a747d6"
            }
          },
          "metadata": {}
        }
      ]
    },
    {
      "cell_type": "markdown",
      "source": [
        "# **Clustering with K-Means & Labeling**"
      ],
      "metadata": {
        "id": "DKC_A-VqPkH6"
      }
    },
    {
      "cell_type": "code",
      "source": [
        "# Initializes KMeans algorithm with 2 clusters\n",
        "kmeans = KMeans(n_clusters=2)\n",
        "# Fits the data sentence_emb to the KMeans algorithm\n",
        "kmeans.fit(sentence_emb)\n",
        "# Predicts the cluster labels for the data sentence_emb\n",
        "y_kmeans = kmeans.predict(sentence_emb)\n",
        "# Returns the centroids of the 2 clusters found by KMeans\n",
        "kmeans.cluster_centers_"
      ],
      "metadata": {
        "colab": {
          "base_uri": "https://localhost:8080/"
        },
        "id": "zxI3GJFCPuWW",
        "outputId": "46dc8e58-db96-49f8-d7fd-12574d9a9ddc"
      },
      "execution_count": null,
      "outputs": [
        {
          "output_type": "execute_result",
          "data": {
            "text/plain": [
              "array([[-0.14173381, -0.27829923],\n",
              "       [-1.00075489,  0.93424855]])"
            ]
          },
          "metadata": {},
          "execution_count": 2
        }
      ]
    },
    {
      "cell_type": "markdown",
      "source": [
        "# **Tagging & Sequence Labeling**"
      ],
      "metadata": {
        "id": "PC0zq52aQgVf"
      }
    },
    {
      "cell_type": "code",
      "source": [
        "pos_tags = nltk.pos_tag(word_emb)\n",
        "seq_label = word_emb.concatenate(sentence_emb)\n",
        "seq_label = seq_label.concatenate(seq_label)"
      ],
      "metadata": {
        "id": "n9Gxd-VQQh8D"
      },
      "execution_count": null,
      "outputs": []
    },
    {
      "cell_type": "markdown",
      "source": [
        "# **1. Apache**"
      ],
      "metadata": {
        "id": "vKmwRjTPSRW5"
      }
    },
    {
      "cell_type": "markdown",
      "source": [
        "## **Train-Test Split**"
      ],
      "metadata": {
        "id": "oR_LuhAjSV2b"
      }
    },
    {
      "cell_type": "code",
      "source": [
        "x_train, x_test, y_train, y_test = train_test_split(seq_label, y_kmeans, test_size=0.2)"
      ],
      "metadata": {
        "id": "QxLSRrqkSYGk"
      },
      "execution_count": null,
      "outputs": []
    },
    {
      "cell_type": "markdown",
      "source": [
        "## **Classification**"
      ],
      "metadata": {
        "id": "RPWdrnoFSotk"
      }
    },
    {
      "cell_type": "markdown",
      "source": [
        "### **Random Forest**"
      ],
      "metadata": {
        "id": "C3qmwjsNStLg"
      }
    },
    {
      "cell_type": "markdown",
      "source": [
        "\n",
        "\n",
        "> **Training Random Forest and Testing on unseen data**\n",
        "\n"
      ],
      "metadata": {
        "id": "0bT1vtYFehVq"
      }
    },
    {
      "cell_type": "code",
      "source": [
        "clf = RandomForestClassifier()\n",
        "clf.fit(x_train, y_train)\n",
        "print(\"Training Score:\", round(clf.score(x_train, y_train), 6) * 100)\n",
        "y_predict = clf.predict(x_test)\n",
        "print(\"Test Accuracy:\", round(accuracy_score(y_test, y_predict), 6) * 100)"
      ],
      "metadata": {
        "colab": {
          "base_uri": "https://localhost:8080/"
        },
        "id": "yK6CMZaNSscU",
        "outputId": "5a5b904a-27d8-4d56-f45d-48c7fbfe7da2"
      },
      "execution_count": null,
      "outputs": [
        {
          "output_type": "stream",
          "name": "stdout",
          "text": [
            "Training Score: 100.0\n",
            "Test Accuracy: 98.0\n"
          ]
        }
      ]
    },
    {
      "cell_type": "markdown",
      "source": [
        "\n",
        "\n",
        "> **Classification Report**\n",
        "\n"
      ],
      "metadata": {
        "id": "OcvP0ihNeiGv"
      }
    },
    {
      "cell_type": "code",
      "source": [
        "print(classification_report(y_test, y_predict, digits=6))"
      ],
      "metadata": {
        "id": "uYJbKYX7T5j4",
        "colab": {
          "base_uri": "https://localhost:8080/"
        },
        "outputId": "0004adb7-79fe-4e07-b62d-7faa9e3a10d1"
      },
      "execution_count": null,
      "outputs": [
        {
          "output_type": "stream",
          "name": "stdout",
          "text": [
            "              precision    recall  f1-score   support\n",
            "\n",
            "           0   0.983516  0.972826  0.978142       184\n",
            "           1   0.977064  0.986111  0.981567       216\n",
            "\n",
            "    accuracy                       0.980000       400\n",
            "   macro avg   0.980290  0.979469  0.979854       400\n",
            "weighted avg   0.980032  0.980000  0.979991       400\n",
            "\n"
          ]
        }
      ]
    },
    {
      "cell_type": "markdown",
      "source": [
        "\n",
        "\n",
        "> **Confusion Matrix**\n",
        "\n"
      ],
      "metadata": {
        "id": "xKVT7wthekAr"
      }
    },
    {
      "cell_type": "code",
      "source": [
        "ConfusionMatrixDisplay(confusion_matrix = confusion_matrix(y_test, y_predict), display_labels = ['0', '1']).plot(cmap=plt.cm.YlOrBr)"
      ],
      "metadata": {
        "colab": {
          "base_uri": "https://localhost:8080/",
          "height": 466
        },
        "id": "4RMf6mkGct7g",
        "outputId": "900d30a3-53d3-4bfa-b908-c8ac006f92dc"
      },
      "execution_count": null,
      "outputs": [
        {
          "output_type": "execute_result",
          "data": {
            "text/plain": [
              "<sklearn.metrics._plot.confusion_matrix.ConfusionMatrixDisplay at 0x7f564862e5e0>"
            ]
          },
          "metadata": {},
          "execution_count": 111
        },
        {
          "output_type": "display_data",
          "data": {
            "text/plain": [
              "<Figure size 640x480 with 2 Axes>"
            ],
            "image/png": "[encoded data removed]"
          },
          "metadata": {}
        }
      ]
    },
    {
      "cell_type": "markdown",
      "source": [
        "\n",
        "\n",
        "> **ROC-AUC Score**\n",
        "\n"
      ],
      "metadata": {
        "id": "3itTrow6fAGX"
      }
    },
    {
      "cell_type": "code",
      "source": [
        "ns_probs = [0 for _ in range(len(y_test))]\n",
        "lr_probs = clf.predict_proba(x_test)\n",
        "lr_probs = lr_probs[:, 1]\n",
        "\n",
        "ns_auc = roc_auc_score(y_test, ns_probs)\n",
        "lr_auc = roc_auc_score(y_test, lr_probs)\n",
        "\n",
        "print('No Skill: ROC AUC=%.3f' % (ns_auc))\n",
        "print('Random Forest: ROC AUC=%.3f' % (lr_auc))\n",
        "\n",
        "ns_fpr, ns_tpr, _ = roc_curve(y_test, ns_probs)\n",
        "lr_fpr, lr_tpr, _ = roc_curve(y_test, lr_probs)\n",
        "\n",
        "plt.plot(ns_fpr, ns_tpr, linestyle='--', label='No Skill')\n",
        "plt.plot(lr_fpr, lr_tpr, marker='.', label='Random Forest')\n",
        "plt.xlabel('False Positive Rate')\n",
        "plt.ylabel('True Positive Rate')\n",
        "plt.legend()\n",
        "plt.show()"
      ],
      "metadata": {
        "colab": {
          "base_uri": "https://localhost:8080/",
          "height": 484
        },
        "id": "LeLC66xrdM7i",
        "outputId": "186cdaf9-c0b7-4e37-90f8-ed889ea7eff0"
      },
      "execution_count": null,
      "outputs": [
        {
          "output_type": "stream",
          "name": "stdout",
          "text": [
            "No Skill: ROC AUC=0.500\n",
            "Random Forest: ROC AUC=0.995\n"
          ]
        },
        {
          "output_type": "display_data",
          "data": {
            "text/plain": [
              "<Figure size 640x480 with 1 Axes>"
            ],
            "image/png": "[encoded data removed]"
          },
          "metadata": {}
        }
      ]
    },
    {
      "cell_type": "code",
      "source": [
        "start = datetime.now()\n",
        "y_predict = clf.predict(x_test)\n",
        "print(\"Classification Time: \", datetime.now() - start)"
      ],
      "metadata": {
        "colab": {
          "base_uri": "https://localhost:8080/"
        },
        "id": "RyyjNpITdOvb",
        "outputId": "bebf3acb-c2c5-4119-e5f5-306ebc8ae1ad"
      },
      "execution_count": null,
      "outputs": [
        {
          "output_type": "stream",
          "name": "stdout",
          "text": [
            "Classification Time:  0:00:00.024524\n"
          ]
        }
      ]
    },
    {
      "cell_type": "markdown",
      "source": [
        "### **LightGBM**"
      ],
      "metadata": {
        "id": "o_H_Uinvg06L"
      }
    },
    {
      "cell_type": "markdown",
      "source": [
        "\n",
        "\n",
        "> **Training LightGBM and Testing on unseen data**\n",
        "\n"
      ],
      "metadata": {
        "id": "8SacABUkg06U"
      }
    },
    {
      "cell_type": "code",
      "source": [
        "clf = LGBMClassifier()\n",
        "clf.fit(x_train, y_train)\n",
        "print(\"Training Score:\", round(clf.score(x_train, y_train), 6) * 100)\n",
        "y_predict = clf.predict(x_test)\n",
        "print(\"Test Accuracy:\", round(accuracy_score(y_test, y_predict), 6) * 100)"
      ],
      "metadata": {
        "colab": {
          "base_uri": "https://localhost:8080/"
        },
        "outputId": "968896d2-b0b4-438a-c2bc-f17985ffb3a4",
        "id": "nXxjf6rDg06U"
      },
      "execution_count": null,
      "outputs": [
        {
          "output_type": "stream",
          "name": "stdout",
          "text": [
            "Training Score: 100.0\n",
            "Test Accuracy: 98.5\n"
          ]
        }
      ]
    },
    {
      "cell_type": "markdown",
      "source": [
        "\n",
        "\n",
        "> **Classification Report**\n",
        "\n"
      ],
      "metadata": {
        "id": "1qQyK8B2g06V"
      }
    },
    {
      "cell_type": "code",
      "source": [
        "print(classification_report(y_test, y_predict, digits=6))"
      ],
      "metadata": {
        "colab": {
          "base_uri": "https://localhost:8080/"
        },
        "outputId": "2b5ddf46-0f6f-4ea3-eef9-52646d1bb8b4",
        "id": "ovXAmbwtg06V"
      },
      "execution_count": null,
      "outputs": [
        {
          "output_type": "stream",
          "name": "stdout",
          "text": [
            "              precision    recall  f1-score   support\n",
            "\n",
            "           0   0.989362  0.978947  0.984127       190\n",
            "           1   0.981132  0.990476  0.985782       210\n",
            "\n",
            "    accuracy                       0.985000       400\n",
            "   macro avg   0.985247  0.984712  0.984954       400\n",
            "weighted avg   0.985041  0.985000  0.984996       400\n",
            "\n"
          ]
        }
      ]
    },
    {
      "cell_type": "markdown",
      "source": [
        "\n",
        "\n",
        "> **Confusion Matrix**\n",
        "\n"
      ],
      "metadata": {
        "id": "RNCJ1bDxg06V"
      }
    },
    {
      "cell_type": "code",
      "source": [
        "ConfusionMatrixDisplay(confusion_matrix = confusion_matrix(y_test, y_predict), display_labels = ['0', '1']).plot(cmap=plt.cm.Greens)"
      ],
      "metadata": {
        "colab": {
          "base_uri": "https://localhost:8080/",
          "height": 466
        },
        "outputId": "0b7bbed4-81e0-4cb4-af98-30c99427fe52",
        "id": "j5VlLsyIg06V"
      },
      "execution_count": null,
      "outputs": [
        {
          "output_type": "execute_result",
          "data": {
            "text/plain": [
              "<sklearn.metrics._plot.confusion_matrix.ConfusionMatrixDisplay at 0x7f5642f7c7c0>"
            ]
          },
          "metadata": {},
          "execution_count": 121
        },
        {
          "output_type": "display_data",
          "data": {
            "text/plain": [
              "<Figure size 640x480 with 2 Axes>"
            ],
            "image/png": "[encoded data removed]"
          },
          "metadata": {}
        }
      ]
    },
    {
      "cell_type": "markdown",
      "source": [
        "\n",
        "\n",
        "> **ROC-AUC Score**\n",
        "\n"
      ],
      "metadata": {
        "id": "30eiQlQ9g06V"
      }
    },
    {
      "cell_type": "code",
      "source": [
        "ns_probs = [0 for _ in range(len(y_test))]\n",
        "lr_probs = clf.predict_proba(x_test)\n",
        "lr_probs = lr_probs[:, 1]\n",
        "\n",
        "ns_auc = roc_auc_score(y_test, ns_probs)\n",
        "lr_auc = roc_auc_score(y_test, lr_probs)\n",
        "\n",
        "print('No Skill: ROC AUC=%.3f' % (ns_auc))\n",
        "print('LightGBM: ROC AUC=%.3f' % (lr_auc))\n",
        "\n",
        "ns_fpr, ns_tpr, _ = roc_curve(y_test, ns_probs)\n",
        "lr_fpr, lr_tpr, _ = roc_curve(y_test, lr_probs)\n",
        "\n",
        "plt.plot(ns_fpr, ns_tpr, linestyle='--', label='No Skill')\n",
        "plt.plot(lr_fpr, lr_tpr, marker='.', label='LightGBM', color='red')\n",
        "plt.xlabel('False Positive Rate')\n",
        "plt.ylabel('True Positive Rate')\n",
        "plt.legend()\n",
        "plt.show()"
      ],
      "metadata": {
        "colab": {
          "base_uri": "https://localhost:8080/",
          "height": 484
        },
        "outputId": "6ec19fbe-dae1-4509-b33d-42e38e324027",
        "id": "s21wDhAUg06V"
      },
      "execution_count": null,
      "outputs": [
        {
          "output_type": "stream",
          "name": "stdout",
          "text": [
            "No Skill: ROC AUC=0.500\n",
            "LightGBM: ROC AUC=0.988\n"
          ]
        },
        {
          "output_type": "display_data",
          "data": {
            "text/plain": [
              "<Figure size 640x480 with 1 Axes>"
            ],
            "image/png": "[encoded data removed]"
          },
          "metadata": {}
        }
      ]
    },
    {
      "cell_type": "code",
      "source": [
        "start = datetime.now()\n",
        "y_predict = clf.predict(x_test)\n",
        "print(\"Classification Time: \", datetime.now() - start)"
      ],
      "metadata": {
        "colab": {
          "base_uri": "https://localhost:8080/"
        },
        "outputId": "71de4b18-53ba-49f7-8301-fa801ed7ba62",
        "id": "6CJLlwElg06W"
      },
      "execution_count": null,
      "outputs": [
        {
          "output_type": "stream",
          "name": "stdout",
          "text": [
            "Classification Time:  0:00:00.007038\n"
          ]
        }
      ]
    },
    {
      "cell_type": "markdown",
      "source": [
        "### **CatBoost**"
      ],
      "metadata": {
        "id": "5P8MTxnRhnZ0"
      }
    },
    {
      "cell_type": "markdown",
      "source": [
        "\n",
        "\n",
        "> **Training CatBoost and Testing on unseen data**\n",
        "\n"
      ],
      "metadata": {
        "id": "cwou6yaXhnZ8"
      }
    },
    {
      "cell_type": "code",
      "source": [
        "clf = CatBoostClassifier(verbose=0)\n",
        "clf.fit(x_train, y_train)\n",
        "print(\"Training Score:\", round(clf.score(x_train, y_train), 6) * 100)\n",
        "y_predict = clf.predict(x_test)\n",
        "print(\"Test Accuracy:\", round(accuracy_score(y_test, y_predict), 6) * 100)"
      ],
      "metadata": {
        "colab": {
          "base_uri": "https://localhost:8080/"
        },
        "outputId": "c79761d8-3b8c-43c6-c0ff-4a1e11bb2ea4",
        "id": "HX_y2JIGhnZ8"
      },
      "execution_count": null,
      "outputs": [
        {
          "output_type": "stream",
          "name": "stdout",
          "text": [
            "Training Score: 99.0625\n",
            "Test Accuracy: 99.75\n"
          ]
        }
      ]
    },
    {
      "cell_type": "markdown",
      "source": [
        "\n",
        "\n",
        "> **Classification Report**\n",
        "\n"
      ],
      "metadata": {
        "id": "i1-kRpNShnZ9"
      }
    },
    {
      "cell_type": "code",
      "source": [
        "print(classification_report(y_test, y_predict, digits=6))"
      ],
      "metadata": {
        "colab": {
          "base_uri": "https://localhost:8080/"
        },
        "outputId": "3b7ad867-f23c-4d40-8d87-963795ff0824",
        "id": "QCY6oGvzhnZ9"
      },
      "execution_count": null,
      "outputs": [
        {
          "output_type": "stream",
          "name": "stdout",
          "text": [
            "              precision    recall  f1-score   support\n",
            "\n",
            "           0   1.000000  0.994737  0.997361       190\n",
            "           1   0.995261  1.000000  0.997625       210\n",
            "\n",
            "    accuracy                       0.997500       400\n",
            "   macro avg   0.997630  0.997368  0.997493       400\n",
            "weighted avg   0.997512  0.997500  0.997500       400\n",
            "\n"
          ]
        }
      ]
    },
    {
      "cell_type": "markdown",
      "source": [
        "\n",
        "\n",
        "> **Confusion Matrix**\n",
        "\n"
      ],
      "metadata": {
        "id": "X829HFUlhnZ9"
      }
    },
    {
      "cell_type": "code",
      "source": [
        "ConfusionMatrixDisplay(confusion_matrix = confusion_matrix(y_test, y_predict), display_labels = ['0', '1']).plot(cmap=plt.cm.Purples)"
      ],
      "metadata": {
        "colab": {
          "base_uri": "https://localhost:8080/",
          "height": 466
        },
        "outputId": "b2eada59-e215-4c2a-8027-e542998e451c",
        "id": "e2sgnDSQhnZ9"
      },
      "execution_count": null,
      "outputs": [
        {
          "output_type": "execute_result",
          "data": {
            "text/plain": [
              "<sklearn.metrics._plot.confusion_matrix.ConfusionMatrixDisplay at 0x7f5640f48730>"
            ]
          },
          "metadata": {},
          "execution_count": 131
        },
        {
          "output_type": "display_data",
          "data": {
            "text/plain": [
              "<Figure size 640x480 with 2 Axes>"
            ],
            "image/png": "[encoded data removed]"
          },
          "metadata": {}
        }
      ]
    },
    {
      "cell_type": "markdown",
      "source": [
        "\n",
        "\n",
        "> **ROC-AUC Score**\n",
        "\n"
      ],
      "metadata": {
        "id": "sji4FK5PhnZ9"
      }
    },
    {
      "cell_type": "code",
      "source": [
        "ns_probs = [0 for _ in range(len(y_test))]\n",
        "lr_probs = clf.predict_proba(x_test)\n",
        "lr_probs = lr_probs[:, 1]\n",
        "\n",
        "ns_auc = roc_auc_score(y_test, ns_probs)\n",
        "lr_auc = roc_auc_score(y_test, lr_probs)\n",
        "\n",
        "print('No Skill: ROC AUC=%.3f' % (ns_auc))\n",
        "print('CatBoost: ROC AUC=%.3f' % (lr_auc))\n",
        "\n",
        "ns_fpr, ns_tpr, _ = roc_curve(y_test, ns_probs)\n",
        "lr_fpr, lr_tpr, _ = roc_curve(y_test, lr_probs)\n",
        "\n",
        "plt.plot(ns_fpr, ns_tpr, linestyle='--', label='No Skill')\n",
        "plt.plot(lr_fpr, lr_tpr, marker='.', label='CatBoost', color='blue')\n",
        "plt.xlabel('False Positive Rate')\n",
        "plt.ylabel('True Positive Rate')\n",
        "plt.legend()\n",
        "plt.show()"
      ],
      "metadata": {
        "colab": {
          "base_uri": "https://localhost:8080/",
          "height": 484
        },
        "outputId": "e444d6af-c5a0-438d-978f-0fddaea1d4a3",
        "id": "l4a_E5pthnZ9"
      },
      "execution_count": null,
      "outputs": [
        {
          "output_type": "stream",
          "name": "stdout",
          "text": [
            "No Skill: ROC AUC=0.500\n",
            "CatBoost: ROC AUC=0.998\n"
          ]
        },
        {
          "output_type": "display_data",
          "data": {
            "text/plain": [
              "<Figure size 640x480 with 1 Axes>"
            ],
            "image/png": "[encoded data removed]"
          },
          "metadata": {}
        }
      ]
    },
    {
      "cell_type": "code",
      "source": [
        "start = datetime.now()\n",
        "y_predict = clf.predict(x_test)\n",
        "print(\"Classification Time: \", datetime.now() - start)"
      ],
      "metadata": {
        "colab": {
          "base_uri": "https://localhost:8080/"
        },
        "outputId": "c1e7905c-9b1d-459f-d904-4cbbe05d7ab3",
        "id": "yGkmaRdzhnZ-"
      },
      "execution_count": null,
      "outputs": [
        {
          "output_type": "stream",
          "name": "stdout",
          "text": [
            "Classification Time:  0:00:00.010937\n"
          ]
        }
      ]
    },
    {
      "cell_type": "markdown",
      "source": [
        "# **2. BGL**"
      ],
      "metadata": {
        "id": "2HdLc7KdjBGP"
      }
    },
    {
      "cell_type": "markdown",
      "source": [
        "## **Train-Test Split**"
      ],
      "metadata": {
        "id": "E4zEaWN4jBGX"
      }
    },
    {
      "cell_type": "code",
      "source": [
        "x_train, x_test, y_train, y_test = train_test_split(seq_label, y_kmeans, test_size=0.2)"
      ],
      "metadata": {
        "id": "y6rKY2kLjBGY"
      },
      "execution_count": null,
      "outputs": []
    },
    {
      "cell_type": "markdown",
      "source": [
        "## **Classification**"
      ],
      "metadata": {
        "id": "VgHYKZ7_jBGY"
      }
    },
    {
      "cell_type": "markdown",
      "source": [
        "### **Random Forest**"
      ],
      "metadata": {
        "id": "McryQlkZjBGY"
      }
    },
    {
      "cell_type": "markdown",
      "source": [
        "\n",
        "\n",
        "> **Training Random Forest and Testing on unseen data**\n",
        "\n"
      ],
      "metadata": {
        "id": "oXCM-tZYjBGY"
      }
    },
    {
      "cell_type": "code",
      "source": [
        "clf = RandomForestClassifier()\n",
        "clf.fit(x_train, y_train)\n",
        "print(\"Training Score:\", round(clf.score(x_train, y_train), 6) * 100)\n",
        "y_predict = clf.predict(x_test)\n",
        "print(\"Test Accuracy:\", round(accuracy_score(y_test, y_predict), 6) * 100)"
      ],
      "metadata": {
        "colab": {
          "base_uri": "https://localhost:8080/"
        },
        "outputId": "88a22bf6-1e8d-4828-fdf1-3cfb81e59369",
        "id": "FV5GCDrcjBGY"
      },
      "execution_count": null,
      "outputs": [
        {
          "output_type": "stream",
          "name": "stdout",
          "text": [
            "Training Score: 100.0\n",
            "Test Accuracy: 98.75\n"
          ]
        }
      ]
    },
    {
      "cell_type": "markdown",
      "source": [
        "\n",
        "\n",
        "> **Classification Report**\n",
        "\n"
      ],
      "metadata": {
        "id": "gbPcdZvrjBGZ"
      }
    },
    {
      "cell_type": "code",
      "source": [
        "print(classification_report(y_test, y_predict, digits=6))"
      ],
      "metadata": {
        "colab": {
          "base_uri": "https://localhost:8080/"
        },
        "outputId": "1767f239-daf7-4431-d00d-44e9886fb91f",
        "id": "s__7GypYjBGZ"
      },
      "execution_count": null,
      "outputs": [
        {
          "output_type": "stream",
          "name": "stdout",
          "text": [
            "              precision    recall  f1-score   support\n",
            "\n",
            "           0   0.979592  0.994819  0.987147       193\n",
            "           1   0.995098  0.980676  0.987835       207\n",
            "\n",
            "    accuracy                       0.987500       400\n",
            "   macro avg   0.987345  0.987747  0.987491       400\n",
            "weighted avg   0.987616  0.987500  0.987503       400\n",
            "\n"
          ]
        }
      ]
    },
    {
      "cell_type": "markdown",
      "source": [
        "\n",
        "\n",
        "> **Confusion Matrix**\n",
        "\n"
      ],
      "metadata": {
        "id": "jy7RFCIojBGZ"
      }
    },
    {
      "cell_type": "code",
      "source": [
        "ConfusionMatrixDisplay(confusion_matrix = confusion_matrix(y_test, y_predict), display_labels = ['0', '1']).plot(cmap=plt.cm.YlOrBr)"
      ],
      "metadata": {
        "colab": {
          "base_uri": "https://localhost:8080/",
          "height": 466
        },
        "outputId": "7134a4b2-4612-48be-950e-804eeafaab7c",
        "id": "l8FQImIPjBGZ"
      },
      "execution_count": null,
      "outputs": [
        {
          "output_type": "execute_result",
          "data": {
            "text/plain": [
              "<sklearn.metrics._plot.confusion_matrix.ConfusionMatrixDisplay at 0x7f56410ebfa0>"
            ]
          },
          "metadata": {},
          "execution_count": 167
        },
        {
          "output_type": "display_data",
          "data": {
            "text/plain": [
              "<Figure size 640x480 with 2 Axes>"
            ],
            "image/png": "[encoded data removed]"
          },
          "metadata": {}
        }
      ]
    },
    {
      "cell_type": "markdown",
      "source": [
        "\n",
        "\n",
        "> **ROC-AUC Score**\n",
        "\n"
      ],
      "metadata": {
        "id": "EPj7J41-jBGZ"
      }
    },
    {
      "cell_type": "code",
      "source": [
        "ns_probs = [0 for _ in range(len(y_test))]\n",
        "lr_probs = clf.predict_proba(x_test)\n",
        "lr_probs = lr_probs[:, 1]\n",
        "\n",
        "ns_auc = roc_auc_score(y_test, ns_probs)\n",
        "lr_auc = roc_auc_score(y_test, lr_probs)\n",
        "\n",
        "print('No Skill: ROC AUC=%.3f' % (ns_auc))\n",
        "print('Random Forest: ROC AUC=%.3f' % (lr_auc))\n",
        "\n",
        "ns_fpr, ns_tpr, _ = roc_curve(y_test, ns_probs)\n",
        "lr_fpr, lr_tpr, _ = roc_curve(y_test, lr_probs)\n",
        "\n",
        "plt.plot(ns_fpr, ns_tpr, linestyle='--', label='No Skill')\n",
        "plt.plot(lr_fpr, lr_tpr, marker='.', label='Random Forest')\n",
        "plt.xlabel('False Positive Rate')\n",
        "plt.ylabel('True Positive Rate')\n",
        "plt.legend()\n",
        "plt.show()"
      ],
      "metadata": {
        "colab": {
          "base_uri": "https://localhost:8080/",
          "height": 484
        },
        "outputId": "faec5d0a-b818-47d2-81aa-c040a14e144e",
        "id": "zqsKW3YgjBGZ"
      },
      "execution_count": null,
      "outputs": [
        {
          "output_type": "stream",
          "name": "stdout",
          "text": [
            "No Skill: ROC AUC=0.500\n",
            "Random Forest: ROC AUC=0.993\n"
          ]
        },
        {
          "output_type": "display_data",
          "data": {
            "text/plain": [
              "<Figure size 640x480 with 1 Axes>"
            ],
            "image/png": "[encoded data removed]"
          },
          "metadata": {}
        }
      ]
    },
    {
      "cell_type": "code",
      "source": [
        "start = datetime.now()\n",
        "y_predict = clf.predict(x_test)\n",
        "print(\"Classification Time: \", datetime.now() - start)"
      ],
      "metadata": {
        "colab": {
          "base_uri": "https://localhost:8080/"
        },
        "outputId": "570c0f5a-1c52-4000-d54b-fdf2778379da",
        "id": "9Pg92-3WjBGa"
      },
      "execution_count": null,
      "outputs": [
        {
          "output_type": "stream",
          "name": "stdout",
          "text": [
            "Classification Time:  0:00:00.019798\n"
          ]
        }
      ]
    },
    {
      "cell_type": "markdown",
      "source": [
        "### **LightGBM**"
      ],
      "metadata": {
        "id": "Lsllx46wjBGa"
      }
    },
    {
      "cell_type": "markdown",
      "source": [
        "\n",
        "\n",
        "> **Training LightGBM and Testing on unseen data**\n",
        "\n"
      ],
      "metadata": {
        "id": "2pOpan7WjBGa"
      }
    },
    {
      "cell_type": "code",
      "source": [
        "clf = LGBMClassifier()\n",
        "clf.fit(x_train, y_train)\n",
        "print(\"Training Score:\", round(clf.score(x_train, y_train), 6) * 100)\n",
        "y_predict = clf.predict(x_test)\n",
        "print(\"Test Accuracy:\", round(accuracy_score(y_test, y_predict), 6) * 100)"
      ],
      "metadata": {
        "colab": {
          "base_uri": "https://localhost:8080/"
        },
        "outputId": "ba426c79-aab1-41d4-c668-898fd117b0fd",
        "id": "Ceo7LFUWjBGa"
      },
      "execution_count": null,
      "outputs": [
        {
          "output_type": "stream",
          "name": "stdout",
          "text": [
            "Training Score: 100.0\n",
            "Test Accuracy: 97.75\n"
          ]
        }
      ]
    },
    {
      "cell_type": "markdown",
      "source": [
        "\n",
        "\n",
        "> **Classification Report**\n",
        "\n"
      ],
      "metadata": {
        "id": "zYqfHNo_jBGa"
      }
    },
    {
      "cell_type": "code",
      "source": [
        "print(classification_report(y_test, y_predict, digits=6))"
      ],
      "metadata": {
        "colab": {
          "base_uri": "https://localhost:8080/"
        },
        "outputId": "30b7233d-4719-4a58-da6f-50dec3a7b283",
        "id": "PvZOxBKsjBGa"
      },
      "execution_count": null,
      "outputs": [
        {
          "output_type": "stream",
          "name": "stdout",
          "text": [
            "              precision    recall  f1-score   support\n",
            "\n",
            "           0   0.974227  0.979275  0.976744       193\n",
            "           1   0.980583  0.975845  0.978208       207\n",
            "\n",
            "    accuracy                       0.977500       400\n",
            "   macro avg   0.977405  0.977560  0.977476       400\n",
            "weighted avg   0.977516  0.977500  0.977502       400\n",
            "\n"
          ]
        }
      ]
    },
    {
      "cell_type": "markdown",
      "source": [
        "\n",
        "\n",
        "> **Confusion Matrix**\n",
        "\n"
      ],
      "metadata": {
        "id": "zQpf7WFBjBGa"
      }
    },
    {
      "cell_type": "code",
      "source": [
        "ConfusionMatrixDisplay(confusion_matrix = confusion_matrix(y_test, y_predict), display_labels = ['0', '1']).plot(cmap=plt.cm.Greens)"
      ],
      "metadata": {
        "colab": {
          "base_uri": "https://localhost:8080/",
          "height": 468
        },
        "outputId": "05ccc713-9137-4950-f31b-75a990ca1ad9",
        "id": "dqc1FeWLjBGb"
      },
      "execution_count": null,
      "outputs": [
        {
          "output_type": "execute_result",
          "data": {
            "text/plain": [
              "<sklearn.metrics._plot.confusion_matrix.ConfusionMatrixDisplay at 0x7f561e15fe80>"
            ]
          },
          "metadata": {},
          "execution_count": 175
        },
        {
          "output_type": "display_data",
          "data": {
            "text/plain": [
              "<Figure size 640x480 with 2 Axes>"
            ],
            "image/png": "[encoded data removed]"
          },
          "metadata": {}
        }
      ]
    },
    {
      "cell_type": "markdown",
      "source": [
        "\n",
        "\n",
        "> **ROC-AUC Score**\n",
        "\n"
      ],
      "metadata": {
        "id": "QCw_EzlzjBGb"
      }
    },
    {
      "cell_type": "code",
      "source": [
        "ns_probs = [0 for _ in range(len(y_test))]\n",
        "lr_probs = clf.predict_proba(x_test)\n",
        "lr_probs = lr_probs[:, 1]\n",
        "\n",
        "ns_auc = roc_auc_score(y_test, ns_probs)\n",
        "lr_auc = roc_auc_score(y_test, lr_probs)\n",
        "\n",
        "print('No Skill: ROC AUC=%.3f' % (ns_auc))\n",
        "print('LightGBM: ROC AUC=%.3f' % (lr_auc))\n",
        "\n",
        "ns_fpr, ns_tpr, _ = roc_curve(y_test, ns_probs)\n",
        "lr_fpr, lr_tpr, _ = roc_curve(y_test, lr_probs)\n",
        "\n",
        "plt.plot(ns_fpr, ns_tpr, linestyle='--', label='No Skill')\n",
        "plt.plot(lr_fpr, lr_tpr, marker='.', label='LightGBM', color='red')\n",
        "plt.xlabel('False Positive Rate')\n",
        "plt.ylabel('True Positive Rate')\n",
        "plt.legend()\n",
        "plt.show()"
      ],
      "metadata": {
        "colab": {
          "base_uri": "https://localhost:8080/",
          "height": 484
        },
        "outputId": "b31299c0-88fe-4cb0-8993-4fad207f82b5",
        "id": "kepj_saSjBGb"
      },
      "execution_count": null,
      "outputs": [
        {
          "output_type": "stream",
          "name": "stdout",
          "text": [
            "No Skill: ROC AUC=0.500\n",
            "LightGBM: ROC AUC=0.995\n"
          ]
        },
        {
          "output_type": "display_data",
          "data": {
            "text/plain": [
              "<Figure size 640x480 with 1 Axes>"
            ],
            "image/png": "[encoded data removed]"
          },
          "metadata": {}
        }
      ]
    },
    {
      "cell_type": "code",
      "source": [
        "start = datetime.now()\n",
        "y_predict = clf.predict(x_test)\n",
        "print(\"Classification Time: \", datetime.now() - start)"
      ],
      "metadata": {
        "colab": {
          "base_uri": "https://localhost:8080/"
        },
        "outputId": "44aef5c5-dc5e-4476-aa4c-5e66ed5946fc",
        "id": "cXUObDaFjBGb"
      },
      "execution_count": null,
      "outputs": [
        {
          "output_type": "stream",
          "name": "stdout",
          "text": [
            "Classification Time:  0:00:00.025235\n"
          ]
        }
      ]
    },
    {
      "cell_type": "markdown",
      "source": [
        "### **CatBoost**"
      ],
      "metadata": {
        "id": "S_JVMNY9jBGb"
      }
    },
    {
      "cell_type": "markdown",
      "source": [
        "\n",
        "\n",
        "> **Training CatBoost and Testing on unseen data**\n",
        "\n"
      ],
      "metadata": {
        "id": "DasVjmBnjBGb"
      }
    },
    {
      "cell_type": "code",
      "source": [
        "clf = CatBoostClassifier(verbose=0)\n",
        "clf.fit(x_train, y_train)\n",
        "print(\"Training Score:\", round(clf.score(x_train, y_train), 6) * 100)\n",
        "y_predict = clf.predict(x_test)\n",
        "print(\"Test Accuracy:\", round(accuracy_score(y_test, y_predict), 6) * 100)"
      ],
      "metadata": {
        "colab": {
          "base_uri": "https://localhost:8080/"
        },
        "outputId": "8d622906-430e-4979-bee1-f2bfc6871508",
        "id": "RjrQcR3JjBGc"
      },
      "execution_count": null,
      "outputs": [
        {
          "output_type": "stream",
          "name": "stdout",
          "text": [
            "Training Score: 99.0\n",
            "Test Accuracy: 99.0\n"
          ]
        }
      ]
    },
    {
      "cell_type": "markdown",
      "source": [
        "\n",
        "\n",
        "> **Classification Report**\n",
        "\n"
      ],
      "metadata": {
        "id": "Nz0VnqeLjBGc"
      }
    },
    {
      "cell_type": "code",
      "source": [
        "print(classification_report(y_test, y_predict, digits=6))"
      ],
      "metadata": {
        "colab": {
          "base_uri": "https://localhost:8080/"
        },
        "outputId": "ed3216cd-d5ec-4282-824b-e52e14e6d85f",
        "id": "08GGaaTLjBGc"
      },
      "execution_count": null,
      "outputs": [
        {
          "output_type": "stream",
          "name": "stdout",
          "text": [
            "              precision    recall  f1-score   support\n",
            "\n",
            "           0   0.989474  0.989474  0.989474       190\n",
            "           1   0.990476  0.990476  0.990476       210\n",
            "\n",
            "    accuracy                       0.990000       400\n",
            "   macro avg   0.989975  0.989975  0.989975       400\n",
            "weighted avg   0.990000  0.990000  0.990000       400\n",
            "\n"
          ]
        }
      ]
    },
    {
      "cell_type": "markdown",
      "source": [
        "\n",
        "\n",
        "> **Confusion Matrix**\n",
        "\n"
      ],
      "metadata": {
        "id": "lqaqhhdUjBGc"
      }
    },
    {
      "cell_type": "code",
      "source": [
        "ConfusionMatrixDisplay(confusion_matrix = confusion_matrix(y_test, y_predict), display_labels = ['0', '1']).plot(cmap=plt.cm.Purples)"
      ],
      "metadata": {
        "colab": {
          "base_uri": "https://localhost:8080/",
          "height": 466
        },
        "outputId": "5ac2483a-0048-458d-dd5d-23d66a84513c",
        "id": "nAXjM7C2jBGc"
      },
      "execution_count": null,
      "outputs": [
        {
          "output_type": "execute_result",
          "data": {
            "text/plain": [
              "<sklearn.metrics._plot.confusion_matrix.ConfusionMatrixDisplay at 0x7f561e1bad30>"
            ]
          },
          "metadata": {},
          "execution_count": 180
        },
        {
          "output_type": "display_data",
          "data": {
            "text/plain": [
              "<Figure size 640x480 with 2 Axes>"
            ],
            "image/png": "[encoded data removed]"
          },
          "metadata": {}
        }
      ]
    },
    {
      "cell_type": "markdown",
      "source": [
        "\n",
        "\n",
        "> **ROC-AUC Score**\n",
        "\n"
      ],
      "metadata": {
        "id": "Jj4IhuumjBGc"
      }
    },
    {
      "cell_type": "code",
      "source": [
        "ns_probs = [0 for _ in range(len(y_test))]\n",
        "lr_probs = clf.predict_proba(x_test)\n",
        "lr_probs = lr_probs[:, 1]\n",
        "\n",
        "ns_auc = roc_auc_score(y_test, ns_probs)\n",
        "lr_auc = roc_auc_score(y_test, lr_probs)\n",
        "\n",
        "print('No Skill: ROC AUC=%.3f' % (ns_auc))\n",
        "print('CatBoost: ROC AUC=%.3f' % (lr_auc))\n",
        "\n",
        "ns_fpr, ns_tpr, _ = roc_curve(y_test, ns_probs)\n",
        "lr_fpr, lr_tpr, _ = roc_curve(y_test, lr_probs)\n",
        "\n",
        "plt.plot(ns_fpr, ns_tpr, linestyle='--', label='No Skill')\n",
        "plt.plot(lr_fpr, lr_tpr, marker='.', label='CatBoost', color='blue')\n",
        "plt.xlabel('False Positive Rate')\n",
        "plt.ylabel('True Positive Rate')\n",
        "plt.legend()\n",
        "plt.show()"
      ],
      "metadata": {
        "colab": {
          "base_uri": "https://localhost:8080/",
          "height": 484
        },
        "outputId": "59cc50cb-1fe8-4215-ecd6-8372b6fbdfa5",
        "id": "gRhJTYfpjBGd"
      },
      "execution_count": null,
      "outputs": [
        {
          "output_type": "stream",
          "name": "stdout",
          "text": [
            "No Skill: ROC AUC=0.500\n",
            "CatBoost: ROC AUC=0.999\n"
          ]
        },
        {
          "output_type": "display_data",
          "data": {
            "text/plain": [
              "<Figure size 640x480 with 1 Axes>"
            ],
            "image/png": "[encoded data removed]"
          },
          "metadata": {}
        }
      ]
    },
    {
      "cell_type": "code",
      "source": [
        "start = datetime.now()\n",
        "y_predict = clf.predict(x_test)\n",
        "print(\"Classification Time: \", datetime.now() - start)"
      ],
      "metadata": {
        "colab": {
          "base_uri": "https://localhost:8080/"
        },
        "outputId": "660acbae-fa32-4272-c70f-95d39e5d4c30",
        "id": "zBVFuw2djBGd"
      },
      "execution_count": null,
      "outputs": [
        {
          "output_type": "stream",
          "name": "stdout",
          "text": [
            "Classification Time:  0:00:00.005348\n"
          ]
        }
      ]
    },
    {
      "cell_type": "markdown",
      "source": [
        "# **3. HDFS**"
      ],
      "metadata": {
        "id": "g9fqF37-kGHI"
      }
    },
    {
      "cell_type": "markdown",
      "source": [
        "## **Train-Test Split**"
      ],
      "metadata": {
        "id": "aNossJ1tkGHR"
      }
    },
    {
      "cell_type": "code",
      "source": [
        "x_train, x_test, y_train, y_test = train_test_split(seq_label, y_kmeans, test_size=0.2)"
      ],
      "metadata": {
        "id": "BwcDSPSOkGHR"
      },
      "execution_count": null,
      "outputs": []
    },
    {
      "cell_type": "markdown",
      "source": [
        "## **Classification**"
      ],
      "metadata": {
        "id": "ORypsRfYkGHR"
      }
    },
    {
      "cell_type": "markdown",
      "source": [
        "### **Random Forest**"
      ],
      "metadata": {
        "id": "3out0zPPkGHR"
      }
    },
    {
      "cell_type": "markdown",
      "source": [
        "\n",
        "\n",
        "> **Training Random Forest and Testing on unseen data**\n",
        "\n"
      ],
      "metadata": {
        "id": "kv0uXTJokGHR"
      }
    },
    {
      "cell_type": "code",
      "source": [
        "clf = RandomForestClassifier()\n",
        "clf.fit(x_train, y_train)\n",
        "print(\"Training Score:\", round(clf.score(x_train, y_train), 6) * 100)\n",
        "y_predict = clf.predict(x_test)\n",
        "print(\"Test Accuracy:\", round(accuracy_score(y_test, y_predict), 6) * 100)"
      ],
      "metadata": {
        "colab": {
          "base_uri": "https://localhost:8080/"
        },
        "outputId": "345ea069-48e7-47d1-c11f-0f4800805aac",
        "id": "nTJTQUK4kGHR"
      },
      "execution_count": null,
      "outputs": [
        {
          "output_type": "stream",
          "name": "stdout",
          "text": [
            "Training Score: 100.0\n",
            "Test Accuracy: 98.75\n"
          ]
        }
      ]
    },
    {
      "cell_type": "markdown",
      "source": [
        "\n",
        "\n",
        "> **Classification Report**\n",
        "\n"
      ],
      "metadata": {
        "id": "suLAijswkGHS"
      }
    },
    {
      "cell_type": "code",
      "source": [
        "print(classification_report(y_test, y_predict, digits=6))"
      ],
      "metadata": {
        "colab": {
          "base_uri": "https://localhost:8080/"
        },
        "outputId": "1c3d2ee4-c746-4836-af02-03247e5c0593",
        "id": "umgfLkKIkGHS"
      },
      "execution_count": null,
      "outputs": [
        {
          "output_type": "stream",
          "name": "stdout",
          "text": [
            "              precision    recall  f1-score   support\n",
            "\n",
            "           0   0.994737  0.979275  0.986945       193\n",
            "           1   0.980952  0.995169  0.988010       207\n",
            "\n",
            "    accuracy                       0.987500       400\n",
            "   macro avg   0.987845  0.987222  0.987477       400\n",
            "weighted avg   0.987603  0.987500  0.987496       400\n",
            "\n"
          ]
        }
      ]
    },
    {
      "cell_type": "markdown",
      "source": [
        "\n",
        "\n",
        "> **Confusion Matrix**\n",
        "\n"
      ],
      "metadata": {
        "id": "e-m4rDU-kGHS"
      }
    },
    {
      "cell_type": "code",
      "source": [
        "ConfusionMatrixDisplay(confusion_matrix = confusion_matrix(y_test, y_predict), display_labels = ['0', '1']).plot(cmap=plt.cm.YlOrBr)"
      ],
      "metadata": {
        "colab": {
          "base_uri": "https://localhost:8080/",
          "height": 466
        },
        "outputId": "87a7974d-af18-497e-ac48-e27ed63312f3",
        "id": "iJBukKeekGHS"
      },
      "execution_count": null,
      "outputs": [
        {
          "output_type": "execute_result",
          "data": {
            "text/plain": [
              "<sklearn.metrics._plot.confusion_matrix.ConfusionMatrixDisplay at 0x7f561e002a90>"
            ]
          },
          "metadata": {},
          "execution_count": 187
        },
        {
          "output_type": "display_data",
          "data": {
            "text/plain": [
              "<Figure size 640x480 with 2 Axes>"
            ],
            "image/png": "[encoded data removed]"
          },
          "metadata": {}
        }
      ]
    },
    {
      "cell_type": "markdown",
      "source": [
        "\n",
        "\n",
        "> **ROC-AUC Score**\n",
        "\n"
      ],
      "metadata": {
        "id": "g12ZgTxFkGHS"
      }
    },
    {
      "cell_type": "code",
      "source": [
        "ns_probs = [0 for _ in range(len(y_test))]\n",
        "lr_probs = clf.predict_proba(x_test)\n",
        "lr_probs = lr_probs[:, 1]\n",
        "\n",
        "ns_auc = roc_auc_score(y_test, ns_probs)\n",
        "lr_auc = roc_auc_score(y_test, lr_probs)\n",
        "\n",
        "print('No Skill: ROC AUC=%.3f' % (ns_auc))\n",
        "print('Random Forest: ROC AUC=%.3f' % (lr_auc))\n",
        "\n",
        "ns_fpr, ns_tpr, _ = roc_curve(y_test, ns_probs)\n",
        "lr_fpr, lr_tpr, _ = roc_curve(y_test, lr_probs)\n",
        "\n",
        "plt.plot(ns_fpr, ns_tpr, linestyle='--', label='No Skill')\n",
        "plt.plot(lr_fpr, lr_tpr, marker='.', label='Random Forest')\n",
        "plt.xlabel('False Positive Rate')\n",
        "plt.ylabel('True Positive Rate')\n",
        "plt.legend()\n",
        "plt.show()"
      ],
      "metadata": {
        "colab": {
          "base_uri": "https://localhost:8080/",
          "height": 484
        },
        "outputId": "70fead70-6b25-431c-fd91-e027def884c7",
        "id": "LbA0oSRakGHT"
      },
      "execution_count": null,
      "outputs": [
        {
          "output_type": "stream",
          "name": "stdout",
          "text": [
            "No Skill: ROC AUC=0.500\n",
            "Random Forest: ROC AUC=0.989\n"
          ]
        },
        {
          "output_type": "display_data",
          "data": {
            "text/plain": [
              "<Figure size 640x480 with 1 Axes>"
            ],
            "image/png": "[encoded data removed]"
          },
          "metadata": {}
        }
      ]
    },
    {
      "cell_type": "code",
      "source": [
        "start = datetime.now()\n",
        "y_predict = clf.predict(x_test)\n",
        "print(\"Classification Time: \", datetime.now() - start)"
      ],
      "metadata": {
        "colab": {
          "base_uri": "https://localhost:8080/"
        },
        "outputId": "b4534b83-c870-424a-e2b2-a90d9ed1223d",
        "id": "AsMakwtSkGHT"
      },
      "execution_count": null,
      "outputs": [
        {
          "output_type": "stream",
          "name": "stdout",
          "text": [
            "Classification Time:  0:00:00.027765\n"
          ]
        }
      ]
    },
    {
      "cell_type": "markdown",
      "source": [
        "### **LightGBM**"
      ],
      "metadata": {
        "id": "do88sqf-kGHT"
      }
    },
    {
      "cell_type": "markdown",
      "source": [
        "\n",
        "\n",
        "> **Training LightGBM and Testing on unseen data**\n",
        "\n"
      ],
      "metadata": {
        "id": "bBelKK7QkGHT"
      }
    },
    {
      "cell_type": "code",
      "source": [
        "clf = LGBMClassifier()\n",
        "clf.fit(x_train, y_train)\n",
        "print(\"Training Score:\", round(clf.score(x_train, y_train), 6) * 100)\n",
        "y_predict = clf.predict(x_test)\n",
        "print(\"Test Accuracy:\", round(accuracy_score(y_test, y_predict), 6) * 100)"
      ],
      "metadata": {
        "colab": {
          "base_uri": "https://localhost:8080/"
        },
        "outputId": "955fcb64-7d2f-440c-921e-76c2e484f200",
        "id": "g5boivW5kGHT"
      },
      "execution_count": null,
      "outputs": [
        {
          "output_type": "stream",
          "name": "stdout",
          "text": [
            "Training Score: 99.875\n",
            "Test Accuracy: 97.0\n"
          ]
        }
      ]
    },
    {
      "cell_type": "markdown",
      "source": [
        "\n",
        "\n",
        "> **Classification Report**\n",
        "\n"
      ],
      "metadata": {
        "id": "U_06YRlCkGHT"
      }
    },
    {
      "cell_type": "code",
      "source": [
        "print(classification_report(y_test, y_predict, digits=6))"
      ],
      "metadata": {
        "colab": {
          "base_uri": "https://localhost:8080/"
        },
        "outputId": "be212522-04b0-4529-f911-d93690a197c4",
        "id": "tVTrW3B4kGHT"
      },
      "execution_count": null,
      "outputs": [
        {
          "output_type": "stream",
          "name": "stdout",
          "text": [
            "              precision    recall  f1-score   support\n",
            "\n",
            "           0   0.988506  0.945055  0.966292       182\n",
            "           1   0.955752  0.990826  0.972973       218\n",
            "\n",
            "    accuracy                       0.970000       400\n",
            "   macro avg   0.972129  0.967940  0.969633       400\n",
            "weighted avg   0.970655  0.970000  0.969933       400\n",
            "\n"
          ]
        }
      ]
    },
    {
      "cell_type": "markdown",
      "source": [
        "\n",
        "\n",
        "> **Confusion Matrix**\n",
        "\n"
      ],
      "metadata": {
        "id": "Pzr7sBZkkGHU"
      }
    },
    {
      "cell_type": "code",
      "source": [
        "ConfusionMatrixDisplay(confusion_matrix = confusion_matrix(y_test, y_predict), display_labels = ['0', '1']).plot(cmap=plt.cm.Greens)"
      ],
      "metadata": {
        "colab": {
          "base_uri": "https://localhost:8080/",
          "height": 466
        },
        "outputId": "b1df5ec8-4188-4ca7-e856-582ac631d476",
        "id": "mSWBwJBtkGHU"
      },
      "execution_count": null,
      "outputs": [
        {
          "output_type": "execute_result",
          "data": {
            "text/plain": [
              "<sklearn.metrics._plot.confusion_matrix.ConfusionMatrixDisplay at 0x7f561ddc6d60>"
            ]
          },
          "metadata": {},
          "execution_count": 193
        },
        {
          "output_type": "display_data",
          "data": {
            "text/plain": [
              "<Figure size 640x480 with 2 Axes>"
            ],
            "image/png": "[encoded data removed]"
          },
          "metadata": {}
        }
      ]
    },
    {
      "cell_type": "markdown",
      "source": [
        "\n",
        "\n",
        "> **ROC-AUC Score**\n",
        "\n"
      ],
      "metadata": {
        "id": "-upEG1rFkGHU"
      }
    },
    {
      "cell_type": "code",
      "source": [
        "ns_probs = [0 for _ in range(len(y_test))]\n",
        "lr_probs = clf.predict_proba(x_test)\n",
        "lr_probs = lr_probs[:, 1]\n",
        "\n",
        "ns_auc = roc_auc_score(y_test, ns_probs)\n",
        "lr_auc = roc_auc_score(y_test, lr_probs)\n",
        "\n",
        "print('No Skill: ROC AUC=%.3f' % (ns_auc))\n",
        "print('LightGBM: ROC AUC=%.3f' % (lr_auc))\n",
        "\n",
        "ns_fpr, ns_tpr, _ = roc_curve(y_test, ns_probs)\n",
        "lr_fpr, lr_tpr, _ = roc_curve(y_test, lr_probs)\n",
        "\n",
        "plt.plot(ns_fpr, ns_tpr, linestyle='--', label='No Skill')\n",
        "plt.plot(lr_fpr, lr_tpr, marker='.', label='LightGBM', color='red')\n",
        "plt.xlabel('False Positive Rate')\n",
        "plt.ylabel('True Positive Rate')\n",
        "plt.legend()\n",
        "plt.show()"
      ],
      "metadata": {
        "colab": {
          "base_uri": "https://localhost:8080/",
          "height": 484
        },
        "outputId": "7654f020-b324-4200-ec2f-8418981d3184",
        "id": "o4IuPUr9kGHU"
      },
      "execution_count": null,
      "outputs": [
        {
          "output_type": "stream",
          "name": "stdout",
          "text": [
            "No Skill: ROC AUC=0.500\n",
            "LightGBM: ROC AUC=0.989\n"
          ]
        },
        {
          "output_type": "display_data",
          "data": {
            "text/plain": [
              "<Figure size 640x480 with 1 Axes>"
            ],
            "image/png": "[encoded data removed]"
          },
          "metadata": {}
        }
      ]
    },
    {
      "cell_type": "code",
      "source": [
        "start = datetime.now()\n",
        "y_predict = clf.predict(x_test)\n",
        "print(\"Classification Time: \", datetime.now() - start)"
      ],
      "metadata": {
        "colab": {
          "base_uri": "https://localhost:8080/"
        },
        "outputId": "c20b60bb-7712-4031-c006-483a03686ff4",
        "id": "uTUuB-PukGHU"
      },
      "execution_count": null,
      "outputs": [
        {
          "output_type": "stream",
          "name": "stdout",
          "text": [
            "Classification Time:  0:00:00.035475\n"
          ]
        }
      ]
    },
    {
      "cell_type": "markdown",
      "source": [
        "### **CatBoost**"
      ],
      "metadata": {
        "id": "cOaYna2BkGHU"
      }
    },
    {
      "cell_type": "markdown",
      "source": [
        "\n",
        "\n",
        "> **Training CatBoost and Testing on unseen data**\n",
        "\n"
      ],
      "metadata": {
        "id": "cb-GeEs5kGHV"
      }
    },
    {
      "cell_type": "code",
      "source": [
        "clf = CatBoostClassifier(verbose=0)\n",
        "clf.fit(x_train, y_train)\n",
        "print(\"Training Score:\", round(clf.score(x_train, y_train), 6) * 100)\n",
        "y_predict = clf.predict(x_test)\n",
        "print(\"Test Accuracy:\", round(accuracy_score(y_test, y_predict), 6) * 100)"
      ],
      "metadata": {
        "colab": {
          "base_uri": "https://localhost:8080/"
        },
        "outputId": "b1636bdc-0bb1-4a30-9eed-bd43e08d63a6",
        "id": "rNMTZ_xMkGHV"
      },
      "execution_count": null,
      "outputs": [
        {
          "output_type": "stream",
          "name": "stdout",
          "text": [
            "Training Score: 99.0625\n",
            "Test Accuracy: 97.5\n"
          ]
        }
      ]
    },
    {
      "cell_type": "markdown",
      "source": [
        "\n",
        "\n",
        "> **Classification Report**\n",
        "\n"
      ],
      "metadata": {
        "id": "MSuUVyylkGHV"
      }
    },
    {
      "cell_type": "code",
      "source": [
        "print(classification_report(y_test, y_predict, digits=6))"
      ],
      "metadata": {
        "colab": {
          "base_uri": "https://localhost:8080/"
        },
        "outputId": "62642e05-eaaf-435e-f2ee-df38522e897e",
        "id": "u76pEJ2ckGHV"
      },
      "execution_count": null,
      "outputs": [
        {
          "output_type": "stream",
          "name": "stdout",
          "text": [
            "              precision    recall  f1-score   support\n",
            "\n",
            "           0   0.976608  0.965318  0.970930       173\n",
            "           1   0.973799  0.982379  0.978070       227\n",
            "\n",
            "    accuracy                       0.975000       400\n",
            "   macro avg   0.975204  0.973848  0.974500       400\n",
            "weighted avg   0.975014  0.975000  0.974982       400\n",
            "\n"
          ]
        }
      ]
    },
    {
      "cell_type": "markdown",
      "source": [
        "\n",
        "\n",
        "> **Confusion Matrix**\n",
        "\n"
      ],
      "metadata": {
        "id": "SqPSpCc1kGHV"
      }
    },
    {
      "cell_type": "code",
      "source": [
        "ConfusionMatrixDisplay(confusion_matrix = confusion_matrix(y_test, y_predict), display_labels = ['0', '1']).plot(cmap=plt.cm.Purples)"
      ],
      "metadata": {
        "colab": {
          "base_uri": "https://localhost:8080/",
          "height": 466
        },
        "outputId": "a4703a72-9844-4576-954f-bd9d9fd7ecca",
        "id": "zFPlPGO0kGHV"
      },
      "execution_count": null,
      "outputs": [
        {
          "output_type": "execute_result",
          "data": {
            "text/plain": [
              "<sklearn.metrics._plot.confusion_matrix.ConfusionMatrixDisplay at 0x7f561dfe6970>"
            ]
          },
          "metadata": {},
          "execution_count": 203
        },
        {
          "output_type": "display_data",
          "data": {
            "text/plain": [
              "<Figure size 640x480 with 2 Axes>"
            ],
            "image/png": "[encoded data removed]"
          },
          "metadata": {}
        }
      ]
    },
    {
      "cell_type": "markdown",
      "source": [
        "\n",
        "\n",
        "> **ROC-AUC Score**\n",
        "\n"
      ],
      "metadata": {
        "id": "uhAYeSJXkGHV"
      }
    },
    {
      "cell_type": "code",
      "source": [
        "ns_probs = [0 for _ in range(len(y_test))]\n",
        "lr_probs = clf.predict_proba(x_test)\n",
        "lr_probs = lr_probs[:, 1]\n",
        "\n",
        "ns_auc = roc_auc_score(y_test, ns_probs)\n",
        "lr_auc = roc_auc_score(y_test, lr_probs)\n",
        "\n",
        "print('No Skill: ROC AUC=%.3f' % (ns_auc))\n",
        "print('CatBoost: ROC AUC=%.3f' % (lr_auc))\n",
        "\n",
        "ns_fpr, ns_tpr, _ = roc_curve(y_test, ns_probs)\n",
        "lr_fpr, lr_tpr, _ = roc_curve(y_test, lr_probs)\n",
        "\n",
        "plt.plot(ns_fpr, ns_tpr, linestyle='--', label='No Skill')\n",
        "plt.plot(lr_fpr, lr_tpr, marker='.', label='CatBoost', color='blue')\n",
        "plt.xlabel('False Positive Rate')\n",
        "plt.ylabel('True Positive Rate')\n",
        "plt.legend()\n",
        "plt.show()"
      ],
      "metadata": {
        "colab": {
          "base_uri": "https://localhost:8080/",
          "height": 484
        },
        "outputId": "c1adb3b8-58c2-465f-d935-2b836bc53676",
        "id": "vxXt9eoCkGHW"
      },
      "execution_count": null,
      "outputs": [
        {
          "output_type": "stream",
          "name": "stdout",
          "text": [
            "No Skill: ROC AUC=0.500\n",
            "CatBoost: ROC AUC=0.984\n"
          ]
        },
        {
          "output_type": "display_data",
          "data": {
            "text/plain": [
              "<Figure size 640x480 with 1 Axes>"
            ],
            "image/png": "[encoded data removed]"
          },
          "metadata": {}
        }
      ]
    },
    {
      "cell_type": "code",
      "source": [
        "start = datetime.now()\n",
        "y_predict = clf.predict(x_test)\n",
        "print(\"Classification Time: \", datetime.now() - start)"
      ],
      "metadata": {
        "colab": {
          "base_uri": "https://localhost:8080/"
        },
        "outputId": "57f41a77-9c1e-4971-db58-048d17ea919d",
        "id": "lH8KRXSnkGHX"
      },
      "execution_count": null,
      "outputs": [
        {
          "output_type": "stream",
          "name": "stdout",
          "text": [
            "Classification Time:  0:00:00.007264\n"
          ]
        }
      ]
    },
    {
      "cell_type": "markdown",
      "source": [
        "# **4. Thunderbird**"
      ],
      "metadata": {
        "id": "YpuHhSHekwTt"
      }
    },
    {
      "cell_type": "markdown",
      "source": [
        "## **Train-Test Split**"
      ],
      "metadata": {
        "id": "YvBQYrlFkwT1"
      }
    },
    {
      "cell_type": "code",
      "source": [
        "x_train, x_test, y_train, y_test = train_test_split(seq_label, y_kmeans, test_size=0.2)"
      ],
      "metadata": {
        "id": "ZnAsmzMVkwT2"
      },
      "execution_count": null,
      "outputs": []
    },
    {
      "cell_type": "markdown",
      "source": [
        "## **Classification**"
      ],
      "metadata": {
        "id": "ceKJZS3dkwT2"
      }
    },
    {
      "cell_type": "markdown",
      "source": [
        "### **Random Forest**"
      ],
      "metadata": {
        "id": "obnDnuN8kwT2"
      }
    },
    {
      "cell_type": "markdown",
      "source": [
        "\n",
        "\n",
        "> **Training Random Forest and Testing on unseen data**\n",
        "\n"
      ],
      "metadata": {
        "id": "gkdj4xBBkwT2"
      }
    },
    {
      "cell_type": "code",
      "source": [
        "clf = RandomForestClassifier()\n",
        "clf.fit(x_train, y_train)\n",
        "print(\"Training Score:\", round(clf.score(x_train, y_train), 6) * 100)\n",
        "y_predict = clf.predict(x_test)\n",
        "print(\"Test Accuracy:\", round(accuracy_score(y_test, y_predict), 6) * 100)"
      ],
      "metadata": {
        "colab": {
          "base_uri": "https://localhost:8080/"
        },
        "outputId": "3529bcdd-ff26-4b83-a445-04991cc62115",
        "id": "6aWUR2I8kwT2"
      },
      "execution_count": null,
      "outputs": [
        {
          "output_type": "stream",
          "name": "stdout",
          "text": [
            "Training Score: 100.0\n",
            "Test Accuracy: 99.33330000000001\n"
          ]
        }
      ]
    },
    {
      "cell_type": "markdown",
      "source": [
        "\n",
        "\n",
        "> **Classification Report**\n",
        "\n"
      ],
      "metadata": {
        "id": "fzttthghkwT2"
      }
    },
    {
      "cell_type": "code",
      "source": [
        "print(classification_report(y_test, y_predict, digits=6))"
      ],
      "metadata": {
        "colab": {
          "base_uri": "https://localhost:8080/"
        },
        "outputId": "cc5d8801-5838-4a95-ae8a-b41c9d7139e2",
        "id": "Qf3FrXr7kwT3"
      },
      "execution_count": null,
      "outputs": [
        {
          "output_type": "stream",
          "name": "stdout",
          "text": [
            "              precision    recall  f1-score   support\n",
            "\n",
            "           0   0.996416  0.989324  0.992857       281\n",
            "           1   0.990654  0.996865  0.993750       319\n",
            "\n",
            "    accuracy                       0.993333       600\n",
            "   macro avg   0.993535  0.993095  0.993304       600\n",
            "weighted avg   0.993353  0.993333  0.993332       600\n",
            "\n"
          ]
        }
      ]
    },
    {
      "cell_type": "markdown",
      "source": [
        "\n",
        "\n",
        "> **Confusion Matrix**\n",
        "\n"
      ],
      "metadata": {
        "id": "Eesl0HyakwT3"
      }
    },
    {
      "cell_type": "code",
      "source": [
        "ConfusionMatrixDisplay(confusion_matrix = confusion_matrix(y_test, y_predict), display_labels = ['0', '1']).plot(cmap=plt.cm.YlOrBr)"
      ],
      "metadata": {
        "colab": {
          "base_uri": "https://localhost:8080/",
          "height": 466
        },
        "outputId": "7d34fb2e-717e-41b2-92f3-43afac6ae178",
        "id": "QgbMIV4ZkwT3"
      },
      "execution_count": null,
      "outputs": [
        {
          "output_type": "execute_result",
          "data": {
            "text/plain": [
              "<sklearn.metrics._plot.confusion_matrix.ConfusionMatrixDisplay at 0x7f561dbf8eb0>"
            ]
          },
          "metadata": {},
          "execution_count": 351
        },
        {
          "output_type": "display_data",
          "data": {
            "text/plain": [
              "<Figure size 640x480 with 2 Axes>"
            ],
            "image/png": "[encoded data removed]"
          },
          "metadata": {}
        }
      ]
    },
    {
      "cell_type": "markdown",
      "source": [
        "\n",
        "\n",
        "> **ROC-AUC Score**\n",
        "\n"
      ],
      "metadata": {
        "id": "6hvodmqukwT3"
      }
    },
    {
      "cell_type": "code",
      "source": [
        "ns_probs = [0 for _ in range(len(y_test))]\n",
        "lr_probs = clf.predict_proba(x_test)\n",
        "lr_probs = lr_probs[:, 1]\n",
        "\n",
        "ns_auc = roc_auc_score(y_test, ns_probs)\n",
        "lr_auc = roc_auc_score(y_test, lr_probs)\n",
        "\n",
        "print('No Skill: ROC AUC=%.3f' % (ns_auc))\n",
        "print('Random Forest: ROC AUC=%.3f' % (lr_auc))\n",
        "\n",
        "ns_fpr, ns_tpr, _ = roc_curve(y_test, ns_probs)\n",
        "lr_fpr, lr_tpr, _ = roc_curve(y_test, lr_probs)\n",
        "\n",
        "plt.plot(ns_fpr, ns_tpr, linestyle='--', label='No Skill')\n",
        "plt.plot(lr_fpr, lr_tpr, marker='.', label='Random Forest')\n",
        "plt.xlabel('False Positive Rate')\n",
        "plt.ylabel('True Positive Rate')\n",
        "plt.legend()\n",
        "plt.show()"
      ],
      "metadata": {
        "colab": {
          "base_uri": "https://localhost:8080/",
          "height": 484
        },
        "outputId": "b909156c-0fbe-4543-9fe2-54ef62a3c15e",
        "id": "SRp2ZxQ2kwT3"
      },
      "execution_count": null,
      "outputs": [
        {
          "output_type": "stream",
          "name": "stdout",
          "text": [
            "No Skill: ROC AUC=0.500\n",
            "Random Forest: ROC AUC=0.994\n"
          ]
        },
        {
          "output_type": "display_data",
          "data": {
            "text/plain": [
              "<Figure size 640x480 with 1 Axes>"
            ],
            "image/png": "[encoded data removed]"
          },
          "metadata": {}
        }
      ]
    },
    {
      "cell_type": "code",
      "source": [
        "start = datetime.now()\n",
        "y_predict = clf.predict(x_test)\n",
        "print(\"Classification Time: \", datetime.now() - start)"
      ],
      "metadata": {
        "colab": {
          "base_uri": "https://localhost:8080/"
        },
        "outputId": "0361548e-4cc7-47b1-f07c-3b6dbaee2686",
        "id": "7Zpuox-EkwT3"
      },
      "execution_count": null,
      "outputs": [
        {
          "output_type": "stream",
          "name": "stdout",
          "text": [
            "Classification Time:  0:00:00.024687\n"
          ]
        }
      ]
    },
    {
      "cell_type": "markdown",
      "source": [
        "### **LightGBM**"
      ],
      "metadata": {
        "id": "5N2XNLkqkwT3"
      }
    },
    {
      "cell_type": "markdown",
      "source": [
        "\n",
        "\n",
        "> **Training LightGBM and Testing on unseen data**\n",
        "\n"
      ],
      "metadata": {
        "id": "lNKlUdxKkwT4"
      }
    },
    {
      "cell_type": "code",
      "source": [
        "clf = LGBMClassifier()\n",
        "clf.fit(x_train, y_train)\n",
        "print(\"Training Score:\", round(clf.score(x_train, y_train), 6) * 100)\n",
        "y_predict = clf.predict(x_test)\n",
        "print(\"Test Accuracy:\", round(accuracy_score(y_test, y_predict), 6) * 100)"
      ],
      "metadata": {
        "colab": {
          "base_uri": "https://localhost:8080/"
        },
        "outputId": "ca2ff3db-4616-4064-9de3-313f11e2c8b1",
        "id": "cr4P30wvkwT4"
      },
      "execution_count": null,
      "outputs": [
        {
          "output_type": "stream",
          "name": "stdout",
          "text": [
            "Training Score: 100.0\n",
            "Test Accuracy: 99.0\n"
          ]
        }
      ]
    },
    {
      "cell_type": "markdown",
      "source": [
        "\n",
        "\n",
        "> **Classification Report**\n",
        "\n"
      ],
      "metadata": {
        "id": "qlswivyakwT4"
      }
    },
    {
      "cell_type": "code",
      "source": [
        "print(classification_report(y_test, y_predict, digits=6))"
      ],
      "metadata": {
        "colab": {
          "base_uri": "https://localhost:8080/"
        },
        "outputId": "4e4e88f4-8cf7-41bc-d4bf-4728fcc6a433",
        "id": "dbCWsRHhkwT4"
      },
      "execution_count": null,
      "outputs": [
        {
          "output_type": "stream",
          "name": "stdout",
          "text": [
            "              precision    recall  f1-score   support\n",
            "\n",
            "           0   0.992832  0.985765  0.989286       281\n",
            "           1   0.987539  0.993730  0.990625       319\n",
            "\n",
            "    accuracy                       0.990000       600\n",
            "   macro avg   0.990185  0.989748  0.989955       600\n",
            "weighted avg   0.990018  0.990000  0.989998       600\n",
            "\n"
          ]
        }
      ]
    },
    {
      "cell_type": "markdown",
      "source": [
        "\n",
        "\n",
        "> **Confusion Matrix**\n",
        "\n"
      ],
      "metadata": {
        "id": "HrqLy8xXkwT4"
      }
    },
    {
      "cell_type": "code",
      "source": [
        "ConfusionMatrixDisplay(confusion_matrix = confusion_matrix(y_test, y_predict), display_labels = ['0', '1']).plot(cmap=plt.cm.Greens)"
      ],
      "metadata": {
        "colab": {
          "base_uri": "https://localhost:8080/",
          "height": 466
        },
        "outputId": "52495257-3896-438f-9d23-c353d713afc4",
        "id": "QbAEeBF5kwT4"
      },
      "execution_count": null,
      "outputs": [
        {
          "output_type": "execute_result",
          "data": {
            "text/plain": [
              "<sklearn.metrics._plot.confusion_matrix.ConfusionMatrixDisplay at 0x7f561daa8730>"
            ]
          },
          "metadata": {},
          "execution_count": 357
        },
        {
          "output_type": "display_data",
          "data": {
            "text/plain": [
              "<Figure size 640x480 with 2 Axes>"
            ],
            "image/png": "[encoded data removed]"
          },
          "metadata": {}
        }
      ]
    },
    {
      "cell_type": "markdown",
      "source": [
        "\n",
        "\n",
        "> **ROC-AUC Score**\n",
        "\n"
      ],
      "metadata": {
        "id": "yBbE-dPlkwT4"
      }
    },
    {
      "cell_type": "code",
      "source": [
        "ns_probs = [0 for _ in range(len(y_test))]\n",
        "lr_probs = clf.predict_proba(x_test)\n",
        "lr_probs = lr_probs[:, 1]\n",
        "\n",
        "ns_auc = roc_auc_score(y_test, ns_probs)\n",
        "lr_auc = roc_auc_score(y_test, lr_probs)\n",
        "\n",
        "print('No Skill: ROC AUC=%.3f' % (ns_auc))\n",
        "print('LightGBM: ROC AUC=%.3f' % (lr_auc))\n",
        "\n",
        "ns_fpr, ns_tpr, _ = roc_curve(y_test, ns_probs)\n",
        "lr_fpr, lr_tpr, _ = roc_curve(y_test, lr_probs)\n",
        "\n",
        "plt.plot(ns_fpr, ns_tpr, linestyle='--', label='No Skill')\n",
        "plt.plot(lr_fpr, lr_tpr, marker='.', label='LightGBM', color='red')\n",
        "plt.xlabel('False Positive Rate')\n",
        "plt.ylabel('True Positive Rate')\n",
        "plt.legend()\n",
        "plt.show()"
      ],
      "metadata": {
        "colab": {
          "base_uri": "https://localhost:8080/",
          "height": 484
        },
        "outputId": "e9d970e9-f2f8-436c-cb54-f2fa74c4a007",
        "id": "tOP_3ko0kwT5"
      },
      "execution_count": null,
      "outputs": [
        {
          "output_type": "stream",
          "name": "stdout",
          "text": [
            "No Skill: ROC AUC=0.500\n",
            "LightGBM: ROC AUC=0.994\n"
          ]
        },
        {
          "output_type": "display_data",
          "data": {
            "text/plain": [
              "<Figure size 640x480 with 1 Axes>"
            ],
            "image/png": "[encoded data removed]"
          },
          "metadata": {}
        }
      ]
    },
    {
      "cell_type": "code",
      "source": [
        "start = datetime.now()\n",
        "y_predict = clf.predict(x_test)\n",
        "print(\"Classification Time: \", datetime.now() - start)"
      ],
      "metadata": {
        "colab": {
          "base_uri": "https://localhost:8080/"
        },
        "outputId": "bba46180-4502-4cd2-f4d8-6126611e8c89",
        "id": "lSVVmaRRkwT5"
      },
      "execution_count": null,
      "outputs": [
        {
          "output_type": "stream",
          "name": "stdout",
          "text": [
            "Classification Time:  0:00:00.022166\n"
          ]
        }
      ]
    },
    {
      "cell_type": "markdown",
      "source": [
        "### **CatBoost**"
      ],
      "metadata": {
        "id": "4xLcqXkXkwT5"
      }
    },
    {
      "cell_type": "markdown",
      "source": [
        "\n",
        "\n",
        "> **Training CatBoost and Testing on unseen data**\n",
        "\n"
      ],
      "metadata": {
        "id": "auQ8yR-jkwT6"
      }
    },
    {
      "cell_type": "code",
      "source": [
        "clf = CatBoostClassifier(verbose=0, n_estimators=12)\n",
        "clf.fit(x_train, y_train)\n",
        "print(\"Training Score:\", round(clf.score(x_train, y_train), 6) * 100)\n",
        "y_predict = clf.predict(x_test)\n",
        "print(\"Test Accuracy:\", round(accuracy_score(y_test, y_predict), 6) * 100)"
      ],
      "metadata": {
        "colab": {
          "base_uri": "https://localhost:8080/"
        },
        "outputId": "7771892b-8509-4228-c792-85dd27664930",
        "id": "S1zlTTiqkwT6"
      },
      "execution_count": null,
      "outputs": [
        {
          "output_type": "stream",
          "name": "stdout",
          "text": [
            "Training Score: 99.1429\n",
            "Test Accuracy: 99.16669999999999\n"
          ]
        }
      ]
    },
    {
      "cell_type": "markdown",
      "source": [
        "\n",
        "\n",
        "> **Classification Report**\n",
        "\n"
      ],
      "metadata": {
        "id": "yHxxdbS4kwT7"
      }
    },
    {
      "cell_type": "code",
      "source": [
        "print(classification_report(y_test, y_predict, digits=6))"
      ],
      "metadata": {
        "colab": {
          "base_uri": "https://localhost:8080/"
        },
        "outputId": "80f6108d-b587-4e92-b02d-65293dc6983c",
        "id": "Z2AbCxD6kwT7"
      },
      "execution_count": null,
      "outputs": [
        {
          "output_type": "stream",
          "name": "stdout",
          "text": [
            "              precision    recall  f1-score   support\n",
            "\n",
            "           0   0.996403  0.985765  0.991055       281\n",
            "           1   0.987578  0.996865  0.992200       319\n",
            "\n",
            "    accuracy                       0.991667       600\n",
            "   macro avg   0.991990  0.991315  0.991628       600\n",
            "weighted avg   0.991711  0.991667  0.991664       600\n",
            "\n"
          ]
        }
      ]
    },
    {
      "cell_type": "markdown",
      "source": [
        "\n",
        "\n",
        "> **Confusion Matrix**\n",
        "\n"
      ],
      "metadata": {
        "id": "TaTiHAj6kwT7"
      }
    },
    {
      "cell_type": "code",
      "source": [
        "ConfusionMatrixDisplay(confusion_matrix = confusion_matrix(y_test, y_predict), display_labels = ['0', '1']).plot(cmap=plt.cm.Purples)"
      ],
      "metadata": {
        "colab": {
          "base_uri": "https://localhost:8080/",
          "height": 466
        },
        "outputId": "4680f4bd-a046-4224-e481-07dbcf67c35e",
        "id": "42wVdIczkwT7"
      },
      "execution_count": null,
      "outputs": [
        {
          "output_type": "execute_result",
          "data": {
            "text/plain": [
              "<sklearn.metrics._plot.confusion_matrix.ConfusionMatrixDisplay at 0x7f561db50ca0>"
            ]
          },
          "metadata": {},
          "execution_count": 374
        },
        {
          "output_type": "display_data",
          "data": {
            "text/plain": [
              "<Figure size 640x480 with 2 Axes>"
            ],
            "image/png": "[encoded data removed]"
          },
          "metadata": {}
        }
      ]
    },
    {
      "cell_type": "markdown",
      "source": [
        "\n",
        "\n",
        "> **ROC-AUC Score**\n",
        "\n"
      ],
      "metadata": {
        "id": "g4BMhtP7kwT7"
      }
    },
    {
      "cell_type": "code",
      "source": [
        "ns_probs = [0 for _ in range(len(y_test))]\n",
        "lr_probs = clf.predict_proba(x_test)\n",
        "lr_probs = lr_probs[:, 1]\n",
        "\n",
        "ns_auc = roc_auc_score(y_test, ns_probs)\n",
        "lr_auc = roc_auc_score(y_test, lr_probs)\n",
        "\n",
        "print('No Skill: ROC AUC=%.3f' % (ns_auc))\n",
        "print('CatBoost: ROC AUC=%.3f' % (lr_auc))\n",
        "\n",
        "ns_fpr, ns_tpr, _ = roc_curve(y_test, ns_probs)\n",
        "lr_fpr, lr_tpr, _ = roc_curve(y_test, lr_probs)\n",
        "\n",
        "plt.plot(ns_fpr, ns_tpr, linestyle='--', label='No Skill')\n",
        "plt.plot(lr_fpr, lr_tpr, marker='.', label='CatBoost', color='blue')\n",
        "plt.xlabel('False Positive Rate')\n",
        "plt.ylabel('True Positive Rate')\n",
        "plt.legend()\n",
        "plt.show()"
      ],
      "metadata": {
        "colab": {
          "base_uri": "https://localhost:8080/",
          "height": 484
        },
        "outputId": "a154ab20-3f23-4f84-b32e-f828830653fc",
        "id": "oCDsitIGkwT7"
      },
      "execution_count": null,
      "outputs": [
        {
          "output_type": "stream",
          "name": "stdout",
          "text": [
            "No Skill: ROC AUC=0.500\n",
            "CatBoost: ROC AUC=0.996\n"
          ]
        },
        {
          "output_type": "display_data",
          "data": {
            "text/plain": [
              "<Figure size 640x480 with 1 Axes>"
            ],
            "image/png": "[encoded data removed]"
          },
          "metadata": {}
        }
      ]
    },
    {
      "cell_type": "code",
      "source": [
        "start = datetime.now()\n",
        "y_predict = clf.predict(x_test)\n",
        "print(\"Classification Time: \", datetime.now() - start)"
      ],
      "metadata": {
        "colab": {
          "base_uri": "https://localhost:8080/"
        },
        "id": "H_b4vHzuFc_Y",
        "outputId": "0ca4d8cf-f425-4edb-8c2b-2dbcaa4b6ea9"
      },
      "execution_count": 1,
      "outputs": [
        {
          "output_type": "stream",
          "name": "stdout",
          "text": [
            "Classification Time:  0:00:00.005213\n"
          ]
        }
      ]
    }
  ]
}